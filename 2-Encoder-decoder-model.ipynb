{
 "cells": [
  {
   "cell_type": "code",
   "execution_count": 1,
   "metadata": {},
   "outputs": [],
   "source": [
    "import os\n",
    "import pickle\n",
    "\n",
    "import numpy as np\n",
    "import pandas as pd\n",
    "\n",
    "import tensorflow as tf\n",
    "import tensorflow.keras.backend as K\n",
    "from tensorflow.keras.regularizers import L1L2"
   ]
  },
  {
   "cell_type": "code",
   "execution_count": 2,
   "metadata": {},
   "outputs": [],
   "source": [
    "MODEL = \"encoder-decoder\"\n",
    "\n",
    "config = {\n",
    "    \"N_PREV\": 90,\n",
    "    \"N_FWD\": 30,\n",
    "    \n",
    "    \"ENCODER_SIZE\": 16,\n",
    "    \"DECODER_SIZE\": 16,\n",
    "    \n",
    "    \"LR\": 0.001,\n",
    "    \"BATCH_SIZE\": 64,\n",
    "    \"EPOCHS\": 30,\n",
    "}"
   ]
  },
  {
   "cell_type": "code",
   "execution_count": 3,
   "metadata": {},
   "outputs": [
    {
     "name": "stderr",
     "output_type": "stream",
     "text": [
      "\u001b[34m\u001b[1mwandb\u001b[0m: Currently logged in as: \u001b[33mall-off-nothing\u001b[0m (use `wandb login --relogin` to force relogin)\n",
      "\u001b[34m\u001b[1mwandb\u001b[0m: \u001b[33mWARNING\u001b[0m If you're specifying your api key in code, ensure this code is not shared publicly.\n",
      "\u001b[34m\u001b[1mwandb\u001b[0m: \u001b[33mWARNING\u001b[0m Consider setting the WANDB_API_KEY environment variable, or running `wandb login` from the command line.\n",
      "\u001b[34m\u001b[1mwandb\u001b[0m: Appending key for api.wandb.ai to your netrc file: C:\\Users\\kiern/.netrc\n"
     ]
    },
    {
     "data": {
      "text/plain": [
       "True"
      ]
     },
     "execution_count": 3,
     "metadata": {},
     "output_type": "execute_result"
    }
   ],
   "source": [
    "import wandb\n",
    "from wandb.keras import WandbCallback\n",
    "from secrets import WANDB\n",
    "wandb.login(key=WANDB)"
   ]
  },
  {
   "cell_type": "markdown",
   "metadata": {},
   "source": [
    "## **Load Data Function**"
   ]
  },
  {
   "cell_type": "code",
   "execution_count": 4,
   "metadata": {},
   "outputs": [],
   "source": [
    "def get_data(fold):\n",
    "    with open(f'./data/fold{fold}_data.npy', mode='rb') as f:\n",
    "        X_train = np.load(f)\n",
    "        y_train = np.load(f)\n",
    "        X_val = np.load(f)\n",
    "        y_val = np.load(f)\n",
    "    with open(f'./data/fold{fold}_normalizer.pkl', mode='rb') as f:\n",
    "        normalizer = pickle.load(f)\n",
    "    return X_train, y_train, X_val, y_val, normalizer\n",
    "        "
   ]
  },
  {
   "cell_type": "markdown",
   "metadata": {},
   "source": [
    "## **Model Functions**"
   ]
  },
  {
   "cell_type": "code",
   "execution_count": 5,
   "metadata": {},
   "outputs": [],
   "source": [
    "def simple_encoder_decoder():\n",
    "    inputs = tf.keras.layers.Input(shape=(config[\"N_PREV\"], 1))\n",
    "    x, hidden_state, cell_state = tf.keras.layers.LSTM(config[\"ENCODER_SIZE\"], \n",
    "                                                       return_sequences=True, \n",
    "                                                       return_state=True, \n",
    "                                                       recurrent_initializer='glorot_uniform', \n",
    "                                                       activity_regularizer=L1L2(l1=0.000001, l2=0.000001))(inputs)\n",
    "    \n",
    "    decoder = tf.keras.layers.LSTM(config[\"DECODER_SIZE\"],\n",
    "                                   return_sequences=True,\n",
    "                                   return_state=True,\n",
    "                                   recurrent_initializer='glorot_uniform', \n",
    "                                   activity_regularizer=L1L2(l1=0.000001, l2=0.000001))\n",
    "    dropout = tf.keras.layers.Dropout(0.2)\n",
    "    decoder_output = tf.keras.layers.Dense(1)\n",
    "    all_outputs = []\n",
    "    last_value = tf.expand_dims(inputs[:, -1, 0:1], 1)\n",
    "    states = [hidden_state, cell_state]\n",
    "    for i in range(config[\"N_FWD\"]):\n",
    "        x, hidden_state, cell_state = decoder(last_value, initial_state=states)\n",
    "        states=[hidden_state, cell_state]\n",
    "        x = dropout(x)\n",
    "        x = decoder_output(x)\n",
    "        last_value = x\n",
    "        all_outputs.append(x)\n",
    "    outputs = tf.keras.layers.Lambda(lambda x: K.concatenate(x, axis=1))(all_outputs)\n",
    "    model = tf.keras.models.Model(inputs=inputs, outputs=outputs)\n",
    "    model.compile(loss=\"mse\", metrics=[\"mae\"], optimizer=tf.keras.optimizers.Adam(learning_rate=config[\"LR\"]))\n",
    "    return model"
   ]
  },
  {
   "cell_type": "markdown",
   "metadata": {},
   "source": [
    "## **Train Loop**"
   ]
  },
  {
   "cell_type": "code",
   "execution_count": 6,
   "metadata": {},
   "outputs": [],
   "source": [
    "def train_model(model, X_train, y_train, X_val, y_val):\n",
    "    reducer = tf.keras.callbacks.ReduceLROnPlateau(monior='val_loss', factor=0.1, patience=2, mode='min', cooldown=1)\n",
    "    stopper = tf.keras.callbacks.EarlyStopping(monitor='val_loss', patience=4, mode='min', restore_best_weights=True)\n",
    "    model.fit(X_train, y_train,\n",
    "              batch_size=config[\"BATCH_SIZE\"],\n",
    "              epochs=config[\"EPOCHS\"], \n",
    "              callbacks=[reducer, stopper],\n",
    "              validation_data=(X_val, y_val),\n",
    "              validation_batch_size=config[\"BATCH_SIZE\"],\n",
    "             shuffle=True)\n",
    "    return model"
   ]
  },
  {
   "cell_type": "code",
   "execution_count": 7,
   "metadata": {},
   "outputs": [],
   "source": [
    "def train():\n",
    "    for fold in range(1, 4):\n",
    "        run = wandb.init(project=\"time-series-methods\", entity=\"kmcguigan\", group=f\"{MODEL}-model\", config=config, job_type=\"train\")\n",
    "        run.name = f'{MODEL}-fold-{fold}'\n",
    "        X_train, y_train, X_val, y_val, normalizer = get_data(fold)\n",
    "        model = simple_encoder_decoder()\n",
    "        model = train_model(model, X_train, y_train, X_val, y_val)\n",
    "        run.finish()\n",
    "    return"
   ]
  },
  {
   "cell_type": "code",
   "execution_count": null,
   "metadata": {},
   "outputs": [
    {
     "data": {
      "text/html": [
       "Tracking run with wandb version 0.12.11"
      ],
      "text/plain": [
       "<IPython.core.display.HTML object>"
      ]
     },
     "metadata": {},
     "output_type": "display_data"
    },
    {
     "data": {
      "text/html": [
       "Run data is saved locally in <code>C:\\Users\\kiern\\MyFolders\\Code\\GitRepositories\\Time-Series-Playground\\wandb\\run-20220331_202329-mz0eqsqf</code>"
      ],
      "text/plain": [
       "<IPython.core.display.HTML object>"
      ]
     },
     "metadata": {},
     "output_type": "display_data"
    },
    {
     "data": {
      "text/html": [
       "Syncing run <strong><a href=\"https://wandb.ai/kmcguigan/time-series-methods/runs/mz0eqsqf\" target=\"_blank\">pretty-dust-2</a></strong> to <a href=\"https://wandb.ai/kmcguigan/time-series-methods\" target=\"_blank\">Weights & Biases</a> (<a href=\"https://wandb.me/run\" target=\"_blank\">docs</a>)<br/>"
      ],
      "text/plain": [
       "<IPython.core.display.HTML object>"
      ]
     },
     "metadata": {},
     "output_type": "display_data"
    },
    {
     "name": "stdout",
     "output_type": "stream",
     "text": [
      "Epoch 1/30\n",
      "2484/2484 [==============================] - 144s 41ms/step - loss: 0.4057 - mae: 0.4917 - val_loss: 0.2958 - val_mae: 0.4215 - lr: 0.0010\n",
      "Epoch 2/30\n",
      "2484/2484 [==============================] - 91s 37ms/step - loss: 0.2575 - mae: 0.3877 - val_loss: 0.1899 - val_mae: 0.3296 - lr: 0.0010\n",
      "Epoch 3/30\n",
      "2484/2484 [==============================] - 87s 35ms/step - loss: 0.2261 - mae: 0.3607 - val_loss: 0.2355 - val_mae: 0.3667 - lr: 0.0010\n",
      "Epoch 4/30\n",
      "2484/2484 [==============================] - 85s 34ms/step - loss: 0.2003 - mae: 0.3376 - val_loss: 0.1482 - val_mae: 0.2857 - lr: 0.0010\n",
      "Epoch 5/30\n",
      "2484/2484 [==============================] - 86s 35ms/step - loss: 0.1799 - mae: 0.3181 - val_loss: 0.1496 - val_mae: 0.2864 - lr: 0.0010\n",
      "Epoch 6/30\n",
      "2484/2484 [==============================] - 87s 35ms/step - loss: 0.1701 - mae: 0.3089 - val_loss: 0.1315 - val_mae: 0.2693 - lr: 0.0010\n",
      "Epoch 7/30\n",
      "2484/2484 [==============================] - 87s 35ms/step - loss: 0.1819 - mae: 0.3202 - val_loss: 0.1536 - val_mae: 0.2903 - lr: 0.0010\n",
      "Epoch 8/30\n",
      "2484/2484 [==============================] - 86s 35ms/step - loss: 0.2044 - mae: 0.3397 - val_loss: 0.1794 - val_mae: 0.3213 - lr: 0.0010\n",
      "Epoch 9/30\n",
      "2484/2484 [==============================] - 86s 35ms/step - loss: 0.1949 - mae: 0.3339 - val_loss: 0.1607 - val_mae: 0.3023 - lr: 1.0000e-04\n",
      "Epoch 10/30\n",
      "2484/2484 [==============================] - 82s 33ms/step - loss: 0.1836 - mae: 0.3237 - val_loss: 0.1512 - val_mae: 0.2920 - lr: 1.0000e-04\n",
      "\n"
     ]
    },
    {
     "data": {
      "text/html": [
       "Waiting for W&B process to finish... <strong style=\"color:green\">(success).</strong>"
      ],
      "text/plain": [
       "<IPython.core.display.HTML object>"
      ]
     },
     "metadata": {},
     "output_type": "display_data"
    },
    {
     "data": {
      "application/vnd.jupyter.widget-view+json": {
       "model_id": "",
       "version_major": 2,
       "version_minor": 0
      },
      "text/plain": [
       "VBox(children=(Label(value='0.001 MB of 0.001 MB uploaded (0.000 MB deduped)\\r'), FloatProgress(value=1.0, max…"
      ]
     },
     "metadata": {},
     "output_type": "display_data"
    },
    {
     "data": {
      "text/html": [
       "Synced <strong style=\"color:#cdcd00\">pretty-dust-2</strong>: <a href=\"https://wandb.ai/kmcguigan/time-series-methods/runs/mz0eqsqf\" target=\"_blank\">https://wandb.ai/kmcguigan/time-series-methods/runs/mz0eqsqf</a><br/>Synced 5 W&B file(s), 0 media file(s), 0 artifact file(s) and 0 other file(s)"
      ],
      "text/plain": [
       "<IPython.core.display.HTML object>"
      ]
     },
     "metadata": {},
     "output_type": "display_data"
    },
    {
     "data": {
      "text/html": [
       "Find logs at: <code>.\\wandb\\run-20220331_202329-mz0eqsqf\\logs</code>"
      ],
      "text/plain": [
       "<IPython.core.display.HTML object>"
      ]
     },
     "metadata": {},
     "output_type": "display_data"
    },
    {
     "data": {
      "text/html": [
       "Tracking run with wandb version 0.12.11"
      ],
      "text/plain": [
       "<IPython.core.display.HTML object>"
      ]
     },
     "metadata": {},
     "output_type": "display_data"
    },
    {
     "data": {
      "text/html": [
       "Run data is saved locally in <code>C:\\Users\\kiern\\MyFolders\\Code\\GitRepositories\\Time-Series-Playground\\wandb\\run-20220331_203909-2n9w62rs</code>"
      ],
      "text/plain": [
       "<IPython.core.display.HTML object>"
      ]
     },
     "metadata": {},
     "output_type": "display_data"
    },
    {
     "data": {
      "text/html": [
       "Syncing run <strong><a href=\"https://wandb.ai/kmcguigan/time-series-methods/runs/2n9w62rs\" target=\"_blank\">crimson-terrain-3</a></strong> to <a href=\"https://wandb.ai/kmcguigan/time-series-methods\" target=\"_blank\">Weights & Biases</a> (<a href=\"https://wandb.me/run\" target=\"_blank\">docs</a>)<br/>"
      ],
      "text/plain": [
       "<IPython.core.display.HTML object>"
      ]
     },
     "metadata": {},
     "output_type": "display_data"
    },
    {
     "name": "stdout",
     "output_type": "stream",
     "text": [
      "Epoch 1/30\n",
      "3162/3162 [==============================] - 216s 52ms/step - loss: 0.3220 - mae: 0.4301 - val_loss: 0.1739 - val_mae: 0.3076 - lr: 0.0010\n",
      "Epoch 2/30\n",
      "3162/3162 [==============================] - 150s 47ms/step - loss: 0.1896 - mae: 0.3278 - val_loss: 0.1474 - val_mae: 0.2828 - lr: 0.0010\n",
      "Epoch 3/30\n",
      "3162/3162 [==============================] - 151s 48ms/step - loss: 0.1759 - mae: 0.3148 - val_loss: 0.1590 - val_mae: 0.2902 - lr: 0.0010\n",
      "Epoch 4/30\n",
      "3162/3162 [==============================] - 161s 51ms/step - loss: 0.1779 - mae: 0.3168 - val_loss: 0.1444 - val_mae: 0.2746 - lr: 0.0010\n",
      "Epoch 5/30\n",
      "3162/3162 [==============================] - 161s 51ms/step - loss: 0.1879 - mae: 0.3242 - val_loss: 0.1573 - val_mae: 0.2918 - lr: 0.0010\n",
      "Epoch 6/30\n",
      "3162/3162 [==============================] - 151s 48ms/step - loss: 0.1611 - mae: 0.3007 - val_loss: 0.1467 - val_mae: 0.2789 - lr: 0.0010\n",
      "Epoch 7/30\n",
      "3162/3162 [==============================] - 169s 53ms/step - loss: 0.1498 - mae: 0.2891 - val_loss: 0.1327 - val_mae: 0.2613 - lr: 1.0000e-04\n",
      "Epoch 8/30\n",
      "3162/3162 [==============================] - 164s 52ms/step - loss: 0.1455 - mae: 0.2843 - val_loss: 0.1293 - val_mae: 0.2577 - lr: 1.0000e-04\n",
      "Epoch 9/30\n",
      "3162/3162 [==============================] - 173s 55ms/step - loss: 0.1440 - mae: 0.2825 - val_loss: 0.1302 - val_mae: 0.2583 - lr: 1.0000e-04\n",
      "Epoch 10/30\n",
      "3162/3162 [==============================] - 181s 57ms/step - loss: 0.1433 - mae: 0.2817 - val_loss: 0.1290 - val_mae: 0.2568 - lr: 1.0000e-04\n",
      "Epoch 11/30\n",
      "3162/3162 [==============================] - 193s 61ms/step - loss: 0.1428 - mae: 0.2813 - val_loss: 0.1275 - val_mae: 0.2554 - lr: 1.0000e-04\n",
      "Epoch 12/30\n",
      "3162/3162 [==============================] - 197s 62ms/step - loss: 0.1419 - mae: 0.2804 - val_loss: 0.1308 - val_mae: 0.2582 - lr: 1.0000e-04\n",
      "Epoch 13/30\n",
      "3162/3162 [==============================] - 174s 55ms/step - loss: 0.1416 - mae: 0.2799 - val_loss: 0.1271 - val_mae: 0.2544 - lr: 1.0000e-04\n",
      "Epoch 14/30\n",
      "3162/3162 [==============================] - 177s 56ms/step - loss: 0.1418 - mae: 0.2801 - val_loss: 0.1298 - val_mae: 0.2566 - lr: 1.0000e-04\n",
      "Epoch 15/30\n",
      "3162/3162 [==============================] - 181s 57ms/step - loss: 0.1406 - mae: 0.2786 - val_loss: 0.1245 - val_mae: 0.2521 - lr: 1.0000e-04\n",
      "Epoch 16/30\n",
      "3162/3162 [==============================] - 177s 56ms/step - loss: 0.1409 - mae: 0.2792 - val_loss: 0.1286 - val_mae: 0.2571 - lr: 1.0000e-04\n",
      "Epoch 17/30\n",
      "3162/3162 [==============================] - 189s 60ms/step - loss: 0.1422 - mae: 0.2803 - val_loss: 0.1308 - val_mae: 0.2585 - lr: 1.0000e-04\n",
      "Epoch 18/30\n",
      " 933/3162 [=======>......................] - ETA: 2:55 - loss: 0.1421 - mae: 0.2796"
     ]
    }
   ],
   "source": [
    "train()"
   ]
  },
  {
   "cell_type": "code",
   "execution_count": null,
   "metadata": {},
   "outputs": [],
   "source": []
  },
  {
   "cell_type": "code",
   "execution_count": null,
   "metadata": {},
   "outputs": [],
   "source": []
  },
  {
   "cell_type": "code",
   "execution_count": null,
   "metadata": {},
   "outputs": [],
   "source": []
  },
  {
   "cell_type": "code",
   "execution_count": null,
   "metadata": {},
   "outputs": [],
   "source": []
  },
  {
   "cell_type": "code",
   "execution_count": null,
   "metadata": {},
   "outputs": [],
   "source": []
  },
  {
   "cell_type": "code",
   "execution_count": null,
   "metadata": {},
   "outputs": [],
   "source": []
  },
  {
   "cell_type": "code",
   "execution_count": null,
   "metadata": {},
   "outputs": [],
   "source": []
  },
  {
   "cell_type": "code",
   "execution_count": null,
   "metadata": {},
   "outputs": [],
   "source": []
  }
 ],
 "metadata": {
  "kernelspec": {
   "display_name": "Python 3 (ipykernel)",
   "language": "python",
   "name": "python3"
  },
  "language_info": {
   "codemirror_mode": {
    "name": "ipython",
    "version": 3
   },
   "file_extension": ".py",
   "mimetype": "text/x-python",
   "name": "python",
   "nbconvert_exporter": "python",
   "pygments_lexer": "ipython3",
   "version": "3.7.11"
  }
 },
 "nbformat": 4,
 "nbformat_minor": 4
}
