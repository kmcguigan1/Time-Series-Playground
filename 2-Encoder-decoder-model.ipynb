{
 "cells": [
  {
   "cell_type": "code",
   "execution_count": 1,
   "metadata": {},
   "outputs": [],
   "source": [
    "import os\n",
    "import pickle\n",
    "import gc\n",
    "\n",
    "import numpy as np\n",
    "import pandas as pd\n",
    "\n",
    "import tensorflow as tf\n",
    "import tensorflow.keras.backend as K\n",
    "from tensorflow.keras.regularizers import L1L2"
   ]
  },
  {
   "cell_type": "code",
   "execution_count": 2,
   "metadata": {},
   "outputs": [],
   "source": [
    "MODEL = \"encoder-decoder\"\n",
    "\n",
    "config = {\n",
    "    \"N_PREV\": 60,\n",
    "    \"N_FWD\": 30,\n",
    "    \n",
    "    \"ENCODER_SIZE\": 16,\n",
    "    \"DECODER_SIZE\": 16,\n",
    "    \n",
    "    \"LR\": 0.001,\n",
    "    \"BATCH_SIZE\": 64,\n",
    "    \"EPOCHS\": 30,\n",
    "}"
   ]
  },
  {
   "cell_type": "code",
   "execution_count": 3,
   "metadata": {},
   "outputs": [
    {
     "name": "stderr",
     "output_type": "stream",
     "text": [
      "\u001b[34m\u001b[1mwandb\u001b[0m: Currently logged in as: \u001b[33mkmcguigan\u001b[0m (use `wandb login --relogin` to force relogin)\n",
      "\u001b[34m\u001b[1mwandb\u001b[0m: \u001b[33mWARNING\u001b[0m If you're specifying your api key in code, ensure this code is not shared publicly.\n",
      "\u001b[34m\u001b[1mwandb\u001b[0m: \u001b[33mWARNING\u001b[0m Consider setting the WANDB_API_KEY environment variable, or running `wandb login` from the command line.\n",
      "\u001b[34m\u001b[1mwandb\u001b[0m: Appending key for api.wandb.ai to your netrc file: C:\\Users\\kiern/.netrc\n"
     ]
    },
    {
     "data": {
      "text/plain": [
       "True"
      ]
     },
     "execution_count": 3,
     "metadata": {},
     "output_type": "execute_result"
    }
   ],
   "source": [
    "import wandb\n",
    "from wandb.keras import WandbCallback\n",
    "from secrets import WANDB\n",
    "wandb.login(key=WANDB)"
   ]
  },
  {
   "cell_type": "markdown",
   "metadata": {},
   "source": [
    "## **Load Data Function**"
   ]
  },
  {
   "cell_type": "code",
   "execution_count": 4,
   "metadata": {},
   "outputs": [],
   "source": [
    "def get_data(fold):\n",
    "    with open(f'./data/fold{fold}_data_v2.npy', mode='rb') as f:\n",
    "        X_train = np.load(f)\n",
    "        y_train = np.load(f)\n",
    "        X_val = np.load(f)\n",
    "        y_val = np.load(f)\n",
    "    # with open(f'./data/fold{fold}_normalizer_v2.pkl', mode='rb') as f:\n",
    "        # normalizer = pickle.load(f)\n",
    "    return X_train, y_train, X_val, y_val, None"
   ]
  },
  {
   "cell_type": "markdown",
   "metadata": {},
   "source": [
    "## **Model Functions**"
   ]
  },
  {
   "cell_type": "code",
   "execution_count": 5,
   "metadata": {},
   "outputs": [],
   "source": [
    "def simple_encoder_decoder():\n",
    "    inputs = tf.keras.layers.Input(shape=(config[\"N_PREV\"], 1))\n",
    "    x, hidden_state, cell_state = tf.keras.layers.LSTM(config[\"ENCODER_SIZE\"], \n",
    "                                                       return_sequences=True, \n",
    "                                                       return_state=True, \n",
    "                                                       recurrent_initializer='glorot_uniform', \n",
    "                                                       activity_regularizer=L1L2(l1=0.000001, l2=0.000001))(inputs)\n",
    "    \n",
    "    decoder = tf.keras.layers.LSTM(config[\"DECODER_SIZE\"],\n",
    "                                   return_sequences=True,\n",
    "                                   return_state=True,\n",
    "                                   recurrent_initializer='glorot_uniform', \n",
    "                                   activity_regularizer=L1L2(l1=0.000001, l2=0.000001))\n",
    "    dropout = tf.keras.layers.Dropout(0.2)\n",
    "    decoder_output = tf.keras.layers.Dense(1)\n",
    "    all_outputs = []\n",
    "    last_value = tf.expand_dims(inputs[:, -1, 0:1], 1)\n",
    "    states = [hidden_state, cell_state]\n",
    "    for i in range(config[\"N_FWD\"]):\n",
    "        x, hidden_state, cell_state = decoder(last_value, initial_state=states)\n",
    "        states=[hidden_state, cell_state]\n",
    "        x = dropout(x)\n",
    "        x = decoder_output(x)\n",
    "        last_value = x\n",
    "        all_outputs.append(x)\n",
    "    outputs = tf.keras.layers.Lambda(lambda x: K.concatenate(x, axis=1))(all_outputs)\n",
    "    model = tf.keras.models.Model(inputs=inputs, outputs=outputs)\n",
    "    model.compile(loss=\"mse\", metrics=[\"mae\"], optimizer=tf.keras.optimizers.Adam(learning_rate=config[\"LR\"]))\n",
    "    return model"
   ]
  },
  {
   "cell_type": "markdown",
   "metadata": {},
   "source": [
    "## **Train Loop**"
   ]
  },
  {
   "cell_type": "code",
   "execution_count": 6,
   "metadata": {},
   "outputs": [],
   "source": [
    "def train_model(model, X_train, y_train, X_val, y_val):\n",
    "    reducer = tf.keras.callbacks.ReduceLROnPlateau(monior='val_loss', factor=0.1, patience=2, mode='min', cooldown=1)\n",
    "    stopper = tf.keras.callbacks.EarlyStopping(monitor='val_loss', patience=4, mode='min', restore_best_weights=True)\n",
    "    model.fit(X_train, y_train,\n",
    "              batch_size=config[\"BATCH_SIZE\"],\n",
    "              epochs=config[\"EPOCHS\"], \n",
    "              callbacks=[reducer, stopper, WandbCallback()],\n",
    "              validation_data=(X_val, y_val),\n",
    "              validation_batch_size=config[\"BATCH_SIZE\"],\n",
    "              shuffle=True)\n",
    "    return model"
   ]
  },
  {
   "cell_type": "code",
   "execution_count": 7,
   "metadata": {},
   "outputs": [],
   "source": [
    "def train():\n",
    "    for fold in range(1, 4):\n",
    "        run = wandb.init(project=\"time-series-methods\", entity=\"kmcguigan\", group=f\"{MODEL}-model\", config=config, job_type=\"train\")\n",
    "        run.name = f'{MODEL}-fold-{fold}'\n",
    "        X_train, y_train, X_val, y_val, _ = get_data(fold)\n",
    "        model = simple_encoder_decoder()\n",
    "        model = train_model(model, X_train, y_train, X_val, y_val)\n",
    "        run.finish()\n",
    "        del model\n",
    "        del X_train\n",
    "        del y_train\n",
    "        del X_val\n",
    "        del y_val\n",
    "        gc.collect()\n",
    "    return"
   ]
  },
  {
   "cell_type": "code",
   "execution_count": 8,
   "metadata": {},
   "outputs": [
    {
     "data": {
      "text/html": [
       "Tracking run with wandb version 0.12.11"
      ],
      "text/plain": [
       "<IPython.core.display.HTML object>"
      ]
     },
     "metadata": {},
     "output_type": "display_data"
    },
    {
     "data": {
      "text/html": [
       "Run data is saved locally in <code>C:\\Users\\kiern\\MyFolders\\Code\\GitRepositories\\Time-Series-Playground\\wandb\\run-20220402_162153-2la7fv8f</code>"
      ],
      "text/plain": [
       "<IPython.core.display.HTML object>"
      ]
     },
     "metadata": {},
     "output_type": "display_data"
    },
    {
     "data": {
      "text/html": [
       "Syncing run <strong><a href=\"https://wandb.ai/kmcguigan/time-series-methods/runs/2la7fv8f\" target=\"_blank\">twilight-silence-10</a></strong> to <a href=\"https://wandb.ai/kmcguigan/time-series-methods\" target=\"_blank\">Weights & Biases</a> (<a href=\"https://wandb.me/run\" target=\"_blank\">docs</a>)<br/>"
      ],
      "text/plain": [
       "<IPython.core.display.HTML object>"
      ]
     },
     "metadata": {},
     "output_type": "display_data"
    },
    {
     "name": "stdout",
     "output_type": "stream",
     "text": [
      "Epoch 1/30\n",
      "2485/2485 [==============================] - 165s 43ms/step - loss: 0.3860 - mae: 0.4777 - val_loss: 0.2423 - val_mae: 0.3759 - lr: 0.0010 - _timestamp: 1648938293.0000 - _runtime: 180.0000\n",
      "Epoch 2/30\n",
      "2485/2485 [==============================] - 91s 37ms/step - loss: 0.2326 - mae: 0.3670 - val_loss: 0.1786 - val_mae: 0.3212 - lr: 0.0010 - _timestamp: 1648938384.0000 - _runtime: 271.0000\n",
      "Epoch 3/30\n",
      "2485/2485 [==============================] - 95s 38ms/step - loss: 0.1913 - mae: 0.3290 - val_loss: 0.1435 - val_mae: 0.2835 - lr: 0.0010 - _timestamp: 1648938479.0000 - _runtime: 366.0000\n",
      "Epoch 4/30\n",
      "2485/2485 [==============================] - 93s 37ms/step - loss: 0.1673 - mae: 0.3061 - val_loss: 0.1371 - val_mae: 0.2746 - lr: 0.0010 - _timestamp: 1648938572.0000 - _runtime: 459.0000\n",
      "Epoch 5/30\n",
      "2485/2485 [==============================] - 93s 38ms/step - loss: 0.1710 - mae: 0.3104 - val_loss: 0.4537 - val_mae: 0.5202 - lr: 0.0010 - _timestamp: 1648938665.0000 - _runtime: 552.0000\n",
      "Epoch 6/30\n",
      "2485/2485 [==============================] - 97s 39ms/step - loss: 0.2198 - mae: 0.3525 - val_loss: 0.1704 - val_mae: 0.3113 - lr: 0.0010 - _timestamp: 1648938762.0000 - _runtime: 649.0000\n",
      "Epoch 7/30\n",
      "2485/2485 [==============================] - 98s 39ms/step - loss: 0.1811 - mae: 0.3188 - val_loss: 0.1527 - val_mae: 0.2897 - lr: 1.0000e-04 - _timestamp: 1648938860.0000 - _runtime: 747.0000\n",
      "Epoch 8/30\n",
      "2485/2485 [==============================] - 97s 39ms/step - loss: 0.1761 - mae: 0.3142 - val_loss: 0.1437 - val_mae: 0.2812 - lr: 1.0000e-04 - _timestamp: 1648938957.0000 - _runtime: 844.0000\n",
      "\n"
     ]
    },
    {
     "data": {
      "text/html": [
       "Waiting for W&B process to finish... <strong style=\"color:green\">(success).</strong>"
      ],
      "text/plain": [
       "<IPython.core.display.HTML object>"
      ]
     },
     "metadata": {},
     "output_type": "display_data"
    },
    {
     "data": {
      "application/vnd.jupyter.widget-view+json": {
       "model_id": "",
       "version_major": 2,
       "version_minor": 0
      },
      "text/plain": [
       "VBox(children=(Label(value='0.088 MB of 0.088 MB uploaded (0.000 MB deduped)\\r'), FloatProgress(value=1.0, max…"
      ]
     },
     "metadata": {},
     "output_type": "display_data"
    },
    {
     "data": {
      "text/html": [
       "<style>\n",
       "    table.wandb td:nth-child(1) { padding: 0 10px; text-align: right }\n",
       "    .wandb-row { display: flex; flex-direction: row; flex-wrap: wrap; width: 100% }\n",
       "    .wandb-col { display: flex; flex-direction: column; flex-basis: 100%; flex: 1; padding: 10px; }\n",
       "    </style>\n",
       "<div class=\"wandb-row\"><div class=\"wandb-col\"><h3>Run history:</h3><br/><table class=\"wandb\"><tr><td>epoch</td><td>▁▂▃▄▅▆▇█</td></tr><tr><td>loss</td><td>█▃▂▁▁▃▁▁</td></tr><tr><td>lr</td><td>██████▁▁</td></tr><tr><td>mae</td><td>█▃▂▁▁▃▂▁</td></tr><tr><td>val_loss</td><td>▃▂▁▁█▂▁▁</td></tr><tr><td>val_mae</td><td>▄▂▁▁█▂▁▁</td></tr></table><br/></div><div class=\"wandb-col\"><h3>Run summary:</h3><br/><table class=\"wandb\"><tr><td>best_epoch</td><td>3</td></tr><tr><td>best_val_loss</td><td>0.13714</td></tr><tr><td>epoch</td><td>7</td></tr><tr><td>loss</td><td>0.1761</td></tr><tr><td>lr</td><td>0.0001</td></tr><tr><td>mae</td><td>0.31417</td></tr><tr><td>val_loss</td><td>0.14368</td></tr><tr><td>val_mae</td><td>0.28122</td></tr></table><br/></div></div>"
      ],
      "text/plain": [
       "<IPython.core.display.HTML object>"
      ]
     },
     "metadata": {},
     "output_type": "display_data"
    },
    {
     "data": {
      "text/html": [
       "Synced <strong style=\"color:#cdcd00\">twilight-silence-10</strong>: <a href=\"https://wandb.ai/kmcguigan/time-series-methods/runs/2la7fv8f\" target=\"_blank\">https://wandb.ai/kmcguigan/time-series-methods/runs/2la7fv8f</a><br/>Synced 5 W&B file(s), 1 media file(s), 0 artifact file(s) and 1 other file(s)"
      ],
      "text/plain": [
       "<IPython.core.display.HTML object>"
      ]
     },
     "metadata": {},
     "output_type": "display_data"
    },
    {
     "data": {
      "text/html": [
       "Find logs at: <code>.\\wandb\\run-20220402_162153-2la7fv8f\\logs</code>"
      ],
      "text/plain": [
       "<IPython.core.display.HTML object>"
      ]
     },
     "metadata": {},
     "output_type": "display_data"
    },
    {
     "data": {
      "text/html": [
       "Tracking run with wandb version 0.12.11"
      ],
      "text/plain": [
       "<IPython.core.display.HTML object>"
      ]
     },
     "metadata": {},
     "output_type": "display_data"
    },
    {
     "data": {
      "text/html": [
       "Run data is saved locally in <code>C:\\Users\\kiern\\MyFolders\\Code\\GitRepositories\\Time-Series-Playground\\wandb\\run-20220402_163604-2mgljqjy</code>"
      ],
      "text/plain": [
       "<IPython.core.display.HTML object>"
      ]
     },
     "metadata": {},
     "output_type": "display_data"
    },
    {
     "data": {
      "text/html": [
       "Syncing run <strong><a href=\"https://wandb.ai/kmcguigan/time-series-methods/runs/2mgljqjy\" target=\"_blank\">warm-shadow-11</a></strong> to <a href=\"https://wandb.ai/kmcguigan/time-series-methods\" target=\"_blank\">Weights & Biases</a> (<a href=\"https://wandb.me/run\" target=\"_blank\">docs</a>)<br/>"
      ],
      "text/plain": [
       "<IPython.core.display.HTML object>"
      ]
     },
     "metadata": {},
     "output_type": "display_data"
    },
    {
     "name": "stdout",
     "output_type": "stream",
     "text": [
      "Epoch 1/30\n",
      "3163/3163 [==============================] - 191s 44ms/step - loss: 0.3174 - mae: 0.4269 - val_loss: 0.1768 - val_mae: 0.3126 - lr: 0.0010 - _timestamp: 1648939168.0000 - _runtime: 204.0000\n",
      "Epoch 2/30\n",
      "3163/3163 [==============================] - 157s 50ms/step - loss: 0.1897 - mae: 0.3296 - val_loss: 0.1475 - val_mae: 0.2798 - lr: 0.0010 - _timestamp: 1648939325.0000 - _runtime: 361.0000\n",
      "Epoch 3/30\n",
      "3163/3163 [==============================] - 131s 41ms/step - loss: 0.1672 - mae: 0.3073 - val_loss: 0.1338 - val_mae: 0.2634 - lr: 0.0010 - _timestamp: 1648939456.0000 - _runtime: 492.0000\n",
      "Epoch 4/30\n",
      "3163/3163 [==============================] - 120s 38ms/step - loss: 0.1646 - mae: 0.3040 - val_loss: 0.1390 - val_mae: 0.2684 - lr: 0.0010 - _timestamp: 1648939577.0000 - _runtime: 613.0000\n",
      "Epoch 5/30\n",
      "3163/3163 [==============================] - 124s 39ms/step - loss: 0.1640 - mae: 0.3033 - val_loss: 0.1544 - val_mae: 0.2865 - lr: 0.0010 - _timestamp: 1648939701.0000 - _runtime: 737.0000\n",
      "Epoch 6/30\n",
      "3163/3163 [==============================] - 133s 42ms/step - loss: 0.1608 - mae: 0.2993 - val_loss: 0.1457 - val_mae: 0.2750 - lr: 1.0000e-04 - _timestamp: 1648939834.0000 - _runtime: 870.0000\n",
      "Epoch 7/30\n",
      "3163/3163 [==============================] - 139s 44ms/step - loss: 0.1568 - mae: 0.2954 - val_loss: 0.1369 - val_mae: 0.2673 - lr: 1.0000e-04 - _timestamp: 1648939972.0000 - _runtime: 1008.0000\n",
      "\n"
     ]
    },
    {
     "data": {
      "text/html": [
       "Waiting for W&B process to finish... <strong style=\"color:green\">(success).</strong>"
      ],
      "text/plain": [
       "<IPython.core.display.HTML object>"
      ]
     },
     "metadata": {},
     "output_type": "display_data"
    },
    {
     "data": {
      "application/vnd.jupyter.widget-view+json": {
       "model_id": "",
       "version_major": 2,
       "version_minor": 0
      },
      "text/plain": [
       "VBox(children=(Label(value='0.089 MB of 0.089 MB uploaded (0.000 MB deduped)\\r'), FloatProgress(value=1.0, max…"
      ]
     },
     "metadata": {},
     "output_type": "display_data"
    },
    {
     "data": {
      "text/html": [
       "<style>\n",
       "    table.wandb td:nth-child(1) { padding: 0 10px; text-align: right }\n",
       "    .wandb-row { display: flex; flex-direction: row; flex-wrap: wrap; width: 100% }\n",
       "    .wandb-col { display: flex; flex-direction: column; flex-basis: 100%; flex: 1; padding: 10px; }\n",
       "    </style>\n",
       "<div class=\"wandb-row\"><div class=\"wandb-col\"><h3>Run history:</h3><br/><table class=\"wandb\"><tr><td>epoch</td><td>▁▂▃▅▆▇█</td></tr><tr><td>loss</td><td>█▂▁▁▁▁▁</td></tr><tr><td>lr</td><td>█████▁▁</td></tr><tr><td>mae</td><td>█▃▂▁▁▁▁</td></tr><tr><td>val_loss</td><td>█▃▁▂▄▃▁</td></tr><tr><td>val_mae</td><td>█▃▁▂▄▃▂</td></tr></table><br/></div><div class=\"wandb-col\"><h3>Run summary:</h3><br/><table class=\"wandb\"><tr><td>best_epoch</td><td>2</td></tr><tr><td>best_val_loss</td><td>0.13383</td></tr><tr><td>epoch</td><td>6</td></tr><tr><td>loss</td><td>0.15678</td></tr><tr><td>lr</td><td>0.0001</td></tr><tr><td>mae</td><td>0.29542</td></tr><tr><td>val_loss</td><td>0.13687</td></tr><tr><td>val_mae</td><td>0.26728</td></tr></table><br/></div></div>"
      ],
      "text/plain": [
       "<IPython.core.display.HTML object>"
      ]
     },
     "metadata": {},
     "output_type": "display_data"
    },
    {
     "data": {
      "text/html": [
       "Synced <strong style=\"color:#cdcd00\">warm-shadow-11</strong>: <a href=\"https://wandb.ai/kmcguigan/time-series-methods/runs/2mgljqjy\" target=\"_blank\">https://wandb.ai/kmcguigan/time-series-methods/runs/2mgljqjy</a><br/>Synced 5 W&B file(s), 1 media file(s), 0 artifact file(s) and 1 other file(s)"
      ],
      "text/plain": [
       "<IPython.core.display.HTML object>"
      ]
     },
     "metadata": {},
     "output_type": "display_data"
    },
    {
     "data": {
      "text/html": [
       "Find logs at: <code>.\\wandb\\run-20220402_163604-2mgljqjy\\logs</code>"
      ],
      "text/plain": [
       "<IPython.core.display.HTML object>"
      ]
     },
     "metadata": {},
     "output_type": "display_data"
    },
    {
     "data": {
      "text/html": [
       "Tracking run with wandb version 0.12.11"
      ],
      "text/plain": [
       "<IPython.core.display.HTML object>"
      ]
     },
     "metadata": {},
     "output_type": "display_data"
    },
    {
     "data": {
      "text/html": [
       "Run data is saved locally in <code>C:\\Users\\kiern\\MyFolders\\Code\\GitRepositories\\Time-Series-Playground\\wandb\\run-20220402_165325-20fmct9k</code>"
      ],
      "text/plain": [
       "<IPython.core.display.HTML object>"
      ]
     },
     "metadata": {},
     "output_type": "display_data"
    },
    {
     "data": {
      "text/html": [
       "Syncing run <strong><a href=\"https://wandb.ai/kmcguigan/time-series-methods/runs/20fmct9k\" target=\"_blank\">vibrant-wildflower-12</a></strong> to <a href=\"https://wandb.ai/kmcguigan/time-series-methods\" target=\"_blank\">Weights & Biases</a> (<a href=\"https://wandb.me/run\" target=\"_blank\">docs</a>)<br/>"
      ],
      "text/plain": [
       "<IPython.core.display.HTML object>"
      ]
     },
     "metadata": {},
     "output_type": "display_data"
    },
    {
     "name": "stdout",
     "output_type": "stream",
     "text": [
      "Epoch 1/30\n",
      "3841/3841 [==============================] - 227s 45ms/step - loss: 0.3373 - mae: 0.4458 - val_loss: 0.1792 - val_mae: 0.3119 - lr: 0.0010 - _timestamp: 1648940247.0000 - _runtime: 242.0000\n",
      "Epoch 2/30\n",
      "3841/3841 [==============================] - 164s 43ms/step - loss: 0.1878 - mae: 0.3267 - val_loss: 0.1419 - val_mae: 0.2738 - lr: 0.0010 - _timestamp: 1648940411.0000 - _runtime: 406.0000\n",
      "Epoch 3/30\n",
      "3841/3841 [==============================] - 166s 43ms/step - loss: 0.1767 - mae: 0.3166 - val_loss: 0.1376 - val_mae: 0.2674 - lr: 0.0010 - _timestamp: 1648940577.0000 - _runtime: 572.0000\n",
      "Epoch 4/30\n",
      "3841/3841 [==============================] - 176s 46ms/step - loss: 0.1881 - mae: 0.3264 - val_loss: 0.1395 - val_mae: 0.2716 - lr: 0.0010 - _timestamp: 1648940753.0000 - _runtime: 748.0000\n",
      "Epoch 5/30\n",
      "3841/3841 [==============================] - 182s 47ms/step - loss: 0.1706 - mae: 0.3108 - val_loss: 0.1193 - val_mae: 0.2483 - lr: 0.0010 - _timestamp: 1648940934.0000 - _runtime: 929.0000\n",
      "Epoch 6/30\n",
      "3841/3841 [==============================] - 183s 48ms/step - loss: 0.1695 - mae: 0.3097 - val_loss: 0.1499 - val_mae: 0.2802 - lr: 0.0010 - _timestamp: 1648941118.0000 - _runtime: 1113.0000\n",
      "Epoch 7/30\n",
      "3841/3841 [==============================] - 208s 54ms/step - loss: 0.1612 - mae: 0.3012 - val_loss: 0.1289 - val_mae: 0.2577 - lr: 0.0010 - _timestamp: 1648941326.0000 - _runtime: 1321.0000\n",
      "Epoch 8/30\n",
      "3841/3841 [==============================] - 178s 46ms/step - loss: 0.1536 - mae: 0.2922 - val_loss: 0.1191 - val_mae: 0.2452 - lr: 1.0000e-04 - _timestamp: 1648941504.0000 - _runtime: 1499.0000\n",
      "Epoch 9/30\n",
      "3841/3841 [==============================] - 186s 49ms/step - loss: 0.1471 - mae: 0.2854 - val_loss: 0.1181 - val_mae: 0.2436 - lr: 1.0000e-04 - _timestamp: 1648941691.0000 - _runtime: 1686.0000\n",
      "Epoch 10/30\n",
      "3841/3841 [==============================] - 197s 51ms/step - loss: 0.1446 - mae: 0.2828 - val_loss: 0.1154 - val_mae: 0.2409 - lr: 1.0000e-04 - _timestamp: 1648941888.0000 - _runtime: 1883.0000\n",
      "Epoch 11/30\n",
      "3841/3841 [==============================] - 174s 45ms/step - loss: 0.1433 - mae: 0.2816 - val_loss: 0.1137 - val_mae: 0.2399 - lr: 1.0000e-04 - _timestamp: 1648942062.0000 - _runtime: 2057.0000\n",
      "Epoch 12/30\n",
      "3841/3841 [==============================] - 175s 46ms/step - loss: 0.1426 - mae: 0.2808 - val_loss: 0.1146 - val_mae: 0.2399 - lr: 1.0000e-04 - _timestamp: 1648942237.0000 - _runtime: 2232.0000\n",
      "Epoch 13/30\n",
      "3841/3841 [==============================] - 189s 49ms/step - loss: 0.1415 - mae: 0.2797 - val_loss: 0.1135 - val_mae: 0.2393 - lr: 1.0000e-04 - _timestamp: 1648942426.0000 - _runtime: 2421.0000\n",
      "Epoch 14/30\n",
      "3841/3841 [==============================] - 165s 43ms/step - loss: 0.1409 - mae: 0.2789 - val_loss: 0.1111 - val_mae: 0.2365 - lr: 1.0000e-04 - _timestamp: 1648942591.0000 - _runtime: 2586.0000\n",
      "Epoch 15/30\n",
      "3841/3841 [==============================] - 163s 42ms/step - loss: 0.1404 - mae: 0.2785 - val_loss: 0.1131 - val_mae: 0.2379 - lr: 1.0000e-04 - _timestamp: 1648942754.0000 - _runtime: 2749.0000\n",
      "Epoch 16/30\n",
      "3841/3841 [==============================] - 162s 42ms/step - loss: 0.1403 - mae: 0.2781 - val_loss: 0.1129 - val_mae: 0.2375 - lr: 1.0000e-04 - _timestamp: 1648942916.0000 - _runtime: 2911.0000\n",
      "Epoch 17/30\n",
      "3841/3841 [==============================] - 163s 42ms/step - loss: 0.1395 - mae: 0.2771 - val_loss: 0.1137 - val_mae: 0.2381 - lr: 1.0000e-05 - _timestamp: 1648943079.0000 - _runtime: 3074.0000\n",
      "Epoch 18/30\n",
      "3841/3841 [==============================] - 163s 42ms/step - loss: 0.1394 - mae: 0.2770 - val_loss: 0.1135 - val_mae: 0.2380 - lr: 1.0000e-05 - _timestamp: 1648943241.0000 - _runtime: 3236.0000\n",
      "\n"
     ]
    },
    {
     "data": {
      "text/html": [
       "Waiting for W&B process to finish... <strong style=\"color:green\">(success).</strong>"
      ],
      "text/plain": [
       "<IPython.core.display.HTML object>"
      ]
     },
     "metadata": {},
     "output_type": "display_data"
    },
    {
     "data": {
      "application/vnd.jupyter.widget-view+json": {
       "model_id": "",
       "version_major": 2,
       "version_minor": 0
      },
      "text/plain": [
       "VBox(children=(Label(value='0.089 MB of 0.089 MB uploaded (0.000 MB deduped)\\r'), FloatProgress(value=1.0, max…"
      ]
     },
     "metadata": {},
     "output_type": "display_data"
    },
    {
     "data": {
      "text/html": [
       "<style>\n",
       "    table.wandb td:nth-child(1) { padding: 0 10px; text-align: right }\n",
       "    .wandb-row { display: flex; flex-direction: row; flex-wrap: wrap; width: 100% }\n",
       "    .wandb-col { display: flex; flex-direction: column; flex-basis: 100%; flex: 1; padding: 10px; }\n",
       "    </style>\n",
       "<div class=\"wandb-row\"><div class=\"wandb-col\"><h3>Run history:</h3><br/><table class=\"wandb\"><tr><td>epoch</td><td>▁▁▂▂▃▃▃▄▄▅▅▆▆▆▇▇██</td></tr><tr><td>loss</td><td>█▃▂▃▂▂▂▂▁▁▁▁▁▁▁▁▁▁</td></tr><tr><td>lr</td><td>███████▂▂▂▂▂▂▂▂▂▁▁</td></tr><tr><td>mae</td><td>█▃▃▃▂▂▂▂▁▁▁▁▁▁▁▁▁▁</td></tr><tr><td>val_loss</td><td>█▄▄▄▂▅▃▂▂▁▁▁▁▁▁▁▁▁</td></tr><tr><td>val_mae</td><td>█▄▄▄▂▅▃▂▂▁▁▁▁▁▁▁▁▁</td></tr></table><br/></div><div class=\"wandb-col\"><h3>Run summary:</h3><br/><table class=\"wandb\"><tr><td>best_epoch</td><td>13</td></tr><tr><td>best_val_loss</td><td>0.11109</td></tr><tr><td>epoch</td><td>17</td></tr><tr><td>loss</td><td>0.13937</td></tr><tr><td>lr</td><td>1e-05</td></tr><tr><td>mae</td><td>0.27697</td></tr><tr><td>val_loss</td><td>0.11345</td></tr><tr><td>val_mae</td><td>0.23798</td></tr></table><br/></div></div>"
      ],
      "text/plain": [
       "<IPython.core.display.HTML object>"
      ]
     },
     "metadata": {},
     "output_type": "display_data"
    },
    {
     "data": {
      "text/html": [
       "Synced <strong style=\"color:#cdcd00\">vibrant-wildflower-12</strong>: <a href=\"https://wandb.ai/kmcguigan/time-series-methods/runs/20fmct9k\" target=\"_blank\">https://wandb.ai/kmcguigan/time-series-methods/runs/20fmct9k</a><br/>Synced 5 W&B file(s), 1 media file(s), 0 artifact file(s) and 1 other file(s)"
      ],
      "text/plain": [
       "<IPython.core.display.HTML object>"
      ]
     },
     "metadata": {},
     "output_type": "display_data"
    },
    {
     "data": {
      "text/html": [
       "Find logs at: <code>.\\wandb\\run-20220402_165325-20fmct9k\\logs</code>"
      ],
      "text/plain": [
       "<IPython.core.display.HTML object>"
      ]
     },
     "metadata": {},
     "output_type": "display_data"
    }
   ],
   "source": [
    "train()"
   ]
  },
  {
   "cell_type": "code",
   "execution_count": null,
   "metadata": {},
   "outputs": [],
   "source": []
  },
  {
   "cell_type": "code",
   "execution_count": null,
   "metadata": {},
   "outputs": [],
   "source": []
  },
  {
   "cell_type": "code",
   "execution_count": null,
   "metadata": {},
   "outputs": [],
   "source": []
  },
  {
   "cell_type": "code",
   "execution_count": null,
   "metadata": {},
   "outputs": [],
   "source": []
  },
  {
   "cell_type": "code",
   "execution_count": null,
   "metadata": {},
   "outputs": [],
   "source": []
  },
  {
   "cell_type": "code",
   "execution_count": null,
   "metadata": {},
   "outputs": [],
   "source": []
  },
  {
   "cell_type": "code",
   "execution_count": null,
   "metadata": {},
   "outputs": [],
   "source": []
  },
  {
   "cell_type": "code",
   "execution_count": null,
   "metadata": {},
   "outputs": [],
   "source": []
  }
 ],
 "metadata": {
  "kernelspec": {
   "display_name": "Python 3 (ipykernel)",
   "language": "python",
   "name": "python3"
  },
  "language_info": {
   "codemirror_mode": {
    "name": "ipython",
    "version": 3
   },
   "file_extension": ".py",
   "mimetype": "text/x-python",
   "name": "python",
   "nbconvert_exporter": "python",
   "pygments_lexer": "ipython3",
   "version": "3.7.13"
  }
 },
 "nbformat": 4,
 "nbformat_minor": 4
}
