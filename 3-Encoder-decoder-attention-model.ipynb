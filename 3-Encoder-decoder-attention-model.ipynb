{
 "cells": [
  {
   "cell_type": "code",
   "execution_count": 1,
   "metadata": {},
   "outputs": [],
   "source": [
    "import os\n",
    "import pickle\n",
    "\n",
    "import numpy as np\n",
    "import pandas as pd\n",
    "\n",
    "import tensorflow as tf\n",
    "import tensorflow.keras.backend as K\n",
    "from tensorflow.keras.regularizers import L1L2"
   ]
  },
  {
   "cell_type": "code",
   "execution_count": 2,
   "metadata": {},
   "outputs": [],
   "source": [
    "config = {\n",
    "    \"N_PREV\": 90,\n",
    "    \"N_FWD\": 30,\n",
    "    \n",
    "    \"ENCODER_SIZE\": 16,\n",
    "    \"DECODER_SIZE\": 16,\n",
    "    \"ATTENTION_SIZE\": 8,\n",
    "    \n",
    "    \"ATTENTION_MODULE\": \"additive\",\n",
    "    \"ATTENTION_METHOD\": \"standard\",\n",
    "    \n",
    "    \"LR\": 0.001,\n",
    "    \"BATCH_SIZE\": 64,\n",
    "    \"EPOCHS\": 30,\n",
    "}\n",
    "\n",
    "MODEL = f\"{config['ATTENTION_METHOD']}-{config['ATTENTION_MODULE']}-attention\""
   ]
  },
  {
   "cell_type": "code",
   "execution_count": 3,
   "metadata": {},
   "outputs": [
    {
     "name": "stderr",
     "output_type": "stream",
     "text": [
      "\u001b[34m\u001b[1mwandb\u001b[0m: Currently logged in as: \u001b[33mall-off-nothing\u001b[0m (use `wandb login --relogin` to force relogin)\n",
      "\u001b[34m\u001b[1mwandb\u001b[0m: \u001b[33mWARNING\u001b[0m If you're specifying your api key in code, ensure this code is not shared publicly.\n",
      "\u001b[34m\u001b[1mwandb\u001b[0m: \u001b[33mWARNING\u001b[0m Consider setting the WANDB_API_KEY environment variable, or running `wandb login` from the command line.\n",
      "\u001b[34m\u001b[1mwandb\u001b[0m: Appending key for api.wandb.ai to your netrc file: C:\\Users\\kiern/.netrc\n"
     ]
    },
    {
     "data": {
      "text/plain": [
       "True"
      ]
     },
     "execution_count": 3,
     "metadata": {},
     "output_type": "execute_result"
    }
   ],
   "source": [
    "import wandb\n",
    "from wandb.keras import WandbCallback\n",
    "from secrets import WANDB\n",
    "wandb.login(key=WANDB)"
   ]
  },
  {
   "cell_type": "markdown",
   "metadata": {},
   "source": [
    "## **Load Data Function**"
   ]
  },
  {
   "cell_type": "code",
   "execution_count": 4,
   "metadata": {},
   "outputs": [],
   "source": [
    "def get_data(fold):\n",
    "    with open(f'./data/fold{fold}_data.npy', mode='rb') as f:\n",
    "        X_train = np.load(f)\n",
    "        y_train = np.load(f)\n",
    "        X_val = np.load(f)\n",
    "        y_val = np.load(f)\n",
    "    with open(f'./data/fold{fold}_normalizer.pkl', mode='rb') as f:\n",
    "        normalizer = pickle.load(f)\n",
    "    return X_train, y_train, X_val, y_val, normalizer\n",
    "        "
   ]
  },
  {
   "cell_type": "markdown",
   "metadata": {},
   "source": [
    "## **Model Functions**"
   ]
  },
  {
   "cell_type": "code",
   "execution_count": 5,
   "metadata": {},
   "outputs": [],
   "source": [
    "class BahdanauAttentionLayer(tf.keras.layers.Layer):\n",
    "    def __init__(self, units, use_bias=False):\n",
    "        super(BahdanauAttentionLayer, self).__init__()\n",
    "        self.units = units\n",
    "        self.use_bias = use_bias\n",
    "        self.W1 = layers.Dense(self.units, use_bias=self.use_bias)\n",
    "        self.W2 = layers.Dense(self.units, use_bias=self.use_bias)\n",
    "    def get_config(self):\n",
    "        config = super(BahdanauAttentionLayer, self).get_config()\n",
    "        config.update({\"units\": self.units, \"use_bias\":self.use_bias})\n",
    "        return config\n",
    "    def call(self, query, values, keys=None, verbose=False):\n",
    "        expanded_query = tf.expand_dims(query, 2)\n",
    "        encoded_query = self.W1(expanded_query)\n",
    "        if(keys is None):\n",
    "            encoded_keys = self.W2(tf.expand_dims(values, 1))\n",
    "        else:\n",
    "            keys = tf.expand_dims(keys, 1)\n",
    "            encoded_keys = self.W2(keys)\n",
    "        combined_encoded_query_and_keys = encoded_query + encoded_keys\n",
    "        tanh_score = tf.nn.tanh(combined_encoded_query_and_keys)\n",
    "        score = tf.reduce_sum(tanh_score, axis=-1)\n",
    "        attention_weights = tf.nn.softmax(score, axis=-1)\n",
    "        overall_context_vector = tf.matmul(attention_weights, values)\n",
    "        context_vector = overall_context_vector\n",
    "        return context_vector\n",
    "\n",
    "class BahdanauAttention(tf.keras.layers.Layer):\n",
    "    def __init__(self, units, use_bias=False):\n",
    "        super(BahdanauAttention, self).__init__()\n",
    "        self.units = units\n",
    "        self.use_bias = use_bias\n",
    "        self.W1 = layers.Dense(self.units, use_bias=self.use_bias)\n",
    "        self.W2 = layers.Dense(self.units, use_bias=self.use_bias)\n",
    "        self.V = layers.Dense(1)\n",
    "    def get_config(self):\n",
    "        config = super(BahdanauAttention, self).get_config()\n",
    "        config.update({\"units\": self.units, \"use_bias\":self.use_bias})\n",
    "        return config\n",
    "    def call(self, query, values, keys=None, verbose=False):\n",
    "        query_with_time_axis = tf.expand_dims(query, 2)\n",
    "        encoded_query = self.W1(query_with_time_axis)\n",
    "        if(keys is None):\n",
    "            encoded_keys = self.W2(tf.expand_dims(values, 1))\n",
    "        else:\n",
    "            keys = tf.expand_dims(keys, 1)\n",
    "            encoded_keys = self.W2(keys)\n",
    "        combined_encoded_query_and_keys = encoded_query + encoded_keys\n",
    "        tanh_score = tf.nn.tanh(combined_encoded_query_and_keys)\n",
    "        score = self.V(tanh_score)\n",
    "        squeezed_score = tf.squeeze(score, axis=-1)\n",
    "        attention_weights = tf.nn.softmax(squeezed_score, axis=-1)\n",
    "        context_vector = tf.matmul(attention_weights, values)\n",
    "        return context_vector\n",
    "    \n",
    "class LuongAttentionLayer(tf.keras.layers.Layer):\n",
    "    def __init__(self, units, use_bias=False):\n",
    "        super(BahdanauAttentionLayer, self).__init__()\n",
    "        self.units = units\n",
    "        self.use_bias = use_bias\n",
    "        self.W1 = layers.Dense(self.units, use_bias=self.use_bias)\n",
    "        self.W2 = layers.Dense(self.units, use_bias=self.use_bias)\n",
    "    def get_config(self):\n",
    "        config = super(BahdanauAttentionLayer, self).get_config()\n",
    "        config.update({\"units\": self.units, \"use_bias\":self.use_bias})\n",
    "        return config\n",
    "    def call(self, query, values, keys=None, verbose=False):\n",
    "        expanded_query = tf.expand_dims(query, 2)\n",
    "        encoded_query = self.W1(expanded_query)\n",
    "        if(keys is None):\n",
    "            encoded_keys = self.W2(tf.expand_dims(values, 1))\n",
    "        else:\n",
    "            keys = tf.expand_dims(keys, 1)\n",
    "            encoded_keys = self.W2(keys)\n",
    "        combined_encoded_query_and_keys = encoded_query * encoded_keys\n",
    "        tanh_score = tf.nn.tanh(combined_encoded_query_and_keys)\n",
    "        score = tf.reduce_sum(tanh_score, axis=-1)\n",
    "        attention_weights = tf.nn.softmax(score, axis=-1)\n",
    "        overall_context_vector = tf.matmul(attention_weights, values)\n",
    "        context_vector = overall_context_vector\n",
    "        return context_vector\n",
    "\n",
    "class LuongAttention(tf.keras.layers.Layer):\n",
    "    def __init__(self, units, use_bias=False):\n",
    "        super(BahdanauAttention, self).__init__()\n",
    "        self.units = units\n",
    "        self.use_bias = use_bias\n",
    "        self.W1 = layers.Dense(self.units, use_bias=self.use_bias)\n",
    "        self.W2 = layers.Dense(self.units, use_bias=self.use_bias)\n",
    "        self.V = layers.Dense(1)\n",
    "    def get_config(self):\n",
    "        config = super(BahdanauAttention, self).get_config()\n",
    "        config.update({\"units\": self.units, \"use_bias\":self.use_bias})\n",
    "        return config\n",
    "    def call(self, query, values, keys=None, verbose=False):\n",
    "        query_with_time_axis = tf.expand_dims(query, 2)\n",
    "        encoded_query = self.W1(query_with_time_axis)\n",
    "        if(keys is None):\n",
    "            encoded_keys = self.W2(tf.expand_dims(values, 1))\n",
    "        else:\n",
    "            keys = tf.expand_dims(keys, 1)\n",
    "            encoded_keys = self.W2(keys)\n",
    "        combined_encoded_query_and_keys = encoded_query * encoded_keys\n",
    "        tanh_score = tf.nn.tanh(combined_encoded_query_and_keys)\n",
    "        score = self.V(tanh_score)\n",
    "        squeezed_score = tf.squeeze(score, axis=-1)\n",
    "        attention_weights = tf.nn.softmax(squeezed_score, axis=-1)\n",
    "        context_vector = tf.matmul(attention_weights, values)\n",
    "        return context_vector\n",
    "\n",
    "def simple_encoder_decoder():\n",
    "    inputs = tf.keras.layers.Input(shape=(config[\"N_PREV\"], 1))\n",
    "    x, hidden_state, cell_state = tf.keras.layers.LSTM(config[\"ENCODER_SIZE\"], \n",
    "                                                       return_sequences=True, \n",
    "                                                       return_state=True, \n",
    "                                                       recurrent_initializer='glorot_uniform', \n",
    "                                                       activity_regularizer=L1L2(l1=0.000001, l2=0.000001))(inputs)\n",
    "    \n",
    "    if(config[\"ATTENTION_MODULE\"] == \"additive\"):\n",
    "        if(config[\"ATTENTION_METHOD\"] == \"standard\"):\n",
    "            attention_layer = BahdanauAttentionLayer(config[\"ATTENTION_SIZE\"], use_bias=True)\n",
    "        elif(config[\"ATTENTION_METHOD\"] == \"vectorized\"):\n",
    "            attention_layer = BahdanauAttention(config[\"ATTENTION_SIZE\"], use_bias=True)\n",
    "        else:\n",
    "            raise Exception(f\"Invalid config ATTENTION_METHOD of {config[\"ATTENTION_METHOD\"]}\")\n",
    "    elif(config[\"ATTENTION_MODULE\"] == \"multiplicative\"):\n",
    "        if(config[\"ATTENTION_METHOD\"] == \"standard\"):\n",
    "            attention_layer = LuongAttentionLayer(config[\"ATTENTION_SIZE\"], use_bias=True)\n",
    "        elif(config[\"ATTENTION_METHOD\"] == \"vectorized\"):\n",
    "            attention_layer = LuongAttention(config[\"ATTENTION_SIZE\"], use_bias=True)\n",
    "        else:\n",
    "            raise Exception(f\"Invalid config ATTENTION_METHOD of {config[\"ATTENTION_METHOD\"]}\")\n",
    "    else:\n",
    "        raise Exception(f\"Invalid config ATTENTION_MODULE of {config[\"ATTENTION_MODULE\"]}\")\n",
    "    decoder = tf.keras.layers.LSTM(config[\"DECODER_SIZE\"],\n",
    "                                   return_sequences=True,\n",
    "                                   return_state=True,\n",
    "                                   recurrent_initializer='glorot_uniform', \n",
    "                                   activity_regularizer=L1L2(l1=0.000001, l2=0.000001))\n",
    "    dropout = tf.keras.layers.Dropout(0.2)\n",
    "    decoder_output = tf.keras.layers.Dense(1)\n",
    "    all_outputs = []\n",
    "    last_value = tf.expand_dims(inputs[:, -1, 0:1], 1)\n",
    "    states = [hidden_state, cell_state]\n",
    "    for i in range(config[\"N_FWD\"]):\n",
    "        x, hidden_state, cell_state = decoder(last_value, initial_state=states)\n",
    "        states=[hidden_state, cell_state]\n",
    "        x = dropout(x)\n",
    "        x = decoder_output(x)\n",
    "        last_value = x\n",
    "        all_outputs.append(x)\n",
    "    outputs = tf.keras.layers.Lambda(lambda x: K.concatenate(x, axis=1))(all_outputs)\n",
    "    model = tf.keras.models.Model(inputs=inputs, outputs=outputs)\n",
    "    model.compile(loss=\"mse\", metrics=[\"mae\"], optimizer=tf.keras.optimizers.Adam(learning_rate=config[\"LR\"]))\n",
    "    return model"
   ]
  },
  {
   "cell_type": "markdown",
   "metadata": {},
   "source": [
    "## **Train Loop**"
   ]
  },
  {
   "cell_type": "code",
   "execution_count": 6,
   "metadata": {},
   "outputs": [],
   "source": [
    "def train_model(model, X_train, y_train, X_val, y_val):\n",
    "    reducer = tf.keras.callbacks.ReduceLROnPlateau(monior='val_loss', factor=0.1, patience=2, mode='min', cooldown=1)\n",
    "    stopper = tf.keras.callbacks.EarlyStopping(monitor='val_loss', patience=4, mode='min', restore_best_weights=True)\n",
    "    model.fit(X_train, y_train,\n",
    "              batch_size=config[\"BATCH_SIZE\"],\n",
    "              epochs=config[\"EPOCHS\"], \n",
    "              callbacks=[reducer, stopper],\n",
    "              validation_data=(X_val, y_val),\n",
    "              validation_batch_size=config[\"BATCH_SIZE\"],\n",
    "             shuffle=True)\n",
    "    return model"
   ]
  },
  {
   "cell_type": "code",
   "execution_count": 7,
   "metadata": {},
   "outputs": [],
   "source": [
    "def train():\n",
    "    for fold in range(1, 4):\n",
    "        run = wandb.init(project=\"time-series-methods\", entity=\"kmcguigan\", group=f\"{MODEL}-model\", config=config, job_type=\"train\")\n",
    "        run.name = f'{MODEL}-fold-{fold}'\n",
    "        X_train, y_train, X_val, y_val, normalizer = get_data(fold)\n",
    "        model = simple_encoder_decoder()\n",
    "        model = train_model(model, X_train, y_train, X_val, y_val)\n",
    "        run.finish()\n",
    "    return"
   ]
  },
  {
   "cell_type": "code",
   "execution_count": 8,
   "metadata": {},
   "outputs": [
    {
     "data": {
      "text/html": [
       "Tracking run with wandb version 0.12.11"
      ],
      "text/plain": [
       "<IPython.core.display.HTML object>"
      ]
     },
     "metadata": {},
     "output_type": "display_data"
    },
    {
     "data": {
      "text/html": [
       "Run data is saved locally in <code>C:\\Users\\kiern\\MyFolders\\Code\\GitRepositories\\Time-Series-Playground\\wandb\\run-20220331_202235-33bhddd9</code>"
      ],
      "text/plain": [
       "<IPython.core.display.HTML object>"
      ]
     },
     "metadata": {},
     "output_type": "display_data"
    },
    {
     "data": {
      "text/html": [
       "Syncing run <strong><a href=\"https://wandb.ai/kmcguigan/time-series-methods/runs/33bhddd9\" target=\"_blank\">balmy-smoke-1</a></strong> to <a href=\"https://wandb.ai/kmcguigan/time-series-methods\" target=\"_blank\">Weights & Biases</a> (<a href=\"https://wandb.me/run\" target=\"_blank\">docs</a>)<br/>"
      ],
      "text/plain": [
       "<IPython.core.display.HTML object>"
      ]
     },
     "metadata": {},
     "output_type": "display_data"
    },
    {
     "ename": "NameError",
     "evalue": "name 'pickle' is not defined",
     "output_type": "error",
     "traceback": [
      "\u001b[1;31m---------------------------------------------------------------------------\u001b[0m",
      "\u001b[1;31mNameError\u001b[0m                                 Traceback (most recent call last)",
      "\u001b[1;32m~\\AppData\\Local\\Temp\\ipykernel_22060\\3364925475.py\u001b[0m in \u001b[0;36m<module>\u001b[1;34m\u001b[0m\n\u001b[1;32m----> 1\u001b[1;33m \u001b[0mtrain\u001b[0m\u001b[1;33m(\u001b[0m\u001b[1;33m)\u001b[0m\u001b[1;33m\u001b[0m\u001b[1;33m\u001b[0m\u001b[0m\n\u001b[0m",
      "\u001b[1;32m~\\AppData\\Local\\Temp\\ipykernel_22060\\3344068557.py\u001b[0m in \u001b[0;36mtrain\u001b[1;34m()\u001b[0m\n\u001b[0;32m      3\u001b[0m         \u001b[0mrun\u001b[0m \u001b[1;33m=\u001b[0m \u001b[0mwandb\u001b[0m\u001b[1;33m.\u001b[0m\u001b[0minit\u001b[0m\u001b[1;33m(\u001b[0m\u001b[0mproject\u001b[0m\u001b[1;33m=\u001b[0m\u001b[1;34m\"time-series-methods\"\u001b[0m\u001b[1;33m,\u001b[0m \u001b[0mentity\u001b[0m\u001b[1;33m=\u001b[0m\u001b[1;34m\"kmcguigan\"\u001b[0m\u001b[1;33m,\u001b[0m \u001b[0mgroup\u001b[0m\u001b[1;33m=\u001b[0m\u001b[1;34mf\"{MODEL}-model\"\u001b[0m\u001b[1;33m,\u001b[0m \u001b[0mconfig\u001b[0m\u001b[1;33m=\u001b[0m\u001b[0mconfig\u001b[0m\u001b[1;33m,\u001b[0m \u001b[0mjob_type\u001b[0m\u001b[1;33m=\u001b[0m\u001b[1;34m\"train\"\u001b[0m\u001b[1;33m)\u001b[0m\u001b[1;33m\u001b[0m\u001b[1;33m\u001b[0m\u001b[0m\n\u001b[0;32m      4\u001b[0m         \u001b[0mrun\u001b[0m\u001b[1;33m.\u001b[0m\u001b[0mname\u001b[0m \u001b[1;33m=\u001b[0m \u001b[1;34mf'{MODEL}-fold-{fold}'\u001b[0m\u001b[1;33m\u001b[0m\u001b[1;33m\u001b[0m\u001b[0m\n\u001b[1;32m----> 5\u001b[1;33m         \u001b[0mX_train\u001b[0m\u001b[1;33m,\u001b[0m \u001b[0my_train\u001b[0m\u001b[1;33m,\u001b[0m \u001b[0mX_val\u001b[0m\u001b[1;33m,\u001b[0m \u001b[0my_val\u001b[0m\u001b[1;33m,\u001b[0m \u001b[0mnormalizer\u001b[0m \u001b[1;33m=\u001b[0m \u001b[0mget_data\u001b[0m\u001b[1;33m(\u001b[0m\u001b[0mfold\u001b[0m\u001b[1;33m)\u001b[0m\u001b[1;33m\u001b[0m\u001b[1;33m\u001b[0m\u001b[0m\n\u001b[0m\u001b[0;32m      6\u001b[0m         \u001b[0mmodel\u001b[0m \u001b[1;33m=\u001b[0m \u001b[0msimple_encoder_decoder\u001b[0m\u001b[1;33m(\u001b[0m\u001b[1;33m)\u001b[0m\u001b[1;33m\u001b[0m\u001b[1;33m\u001b[0m\u001b[0m\n\u001b[0;32m      7\u001b[0m         \u001b[0mmodel\u001b[0m \u001b[1;33m=\u001b[0m \u001b[0mtrain_model\u001b[0m\u001b[1;33m(\u001b[0m\u001b[0mmodel\u001b[0m\u001b[1;33m,\u001b[0m \u001b[0mX_train\u001b[0m\u001b[1;33m,\u001b[0m \u001b[0my_train\u001b[0m\u001b[1;33m,\u001b[0m \u001b[0mX_val\u001b[0m\u001b[1;33m,\u001b[0m \u001b[0my_val\u001b[0m\u001b[1;33m)\u001b[0m\u001b[1;33m\u001b[0m\u001b[1;33m\u001b[0m\u001b[0m\n",
      "\u001b[1;32m~\\AppData\\Local\\Temp\\ipykernel_22060\\713291557.py\u001b[0m in \u001b[0;36mget_data\u001b[1;34m(fold)\u001b[0m\n\u001b[0;32m      6\u001b[0m         \u001b[0my_val\u001b[0m \u001b[1;33m=\u001b[0m \u001b[0mnp\u001b[0m\u001b[1;33m.\u001b[0m\u001b[0mload\u001b[0m\u001b[1;33m(\u001b[0m\u001b[0mf\u001b[0m\u001b[1;33m)\u001b[0m\u001b[1;33m\u001b[0m\u001b[1;33m\u001b[0m\u001b[0m\n\u001b[0;32m      7\u001b[0m     \u001b[1;32mwith\u001b[0m \u001b[0mopen\u001b[0m\u001b[1;33m(\u001b[0m\u001b[1;34mf'./data/fold{fold}_normalizer.pkl'\u001b[0m\u001b[1;33m,\u001b[0m \u001b[0mmode\u001b[0m\u001b[1;33m=\u001b[0m\u001b[1;34m'rb'\u001b[0m\u001b[1;33m)\u001b[0m \u001b[1;32mas\u001b[0m \u001b[0mf\u001b[0m\u001b[1;33m:\u001b[0m\u001b[1;33m\u001b[0m\u001b[1;33m\u001b[0m\u001b[0m\n\u001b[1;32m----> 8\u001b[1;33m         \u001b[0mnormalizer\u001b[0m \u001b[1;33m=\u001b[0m \u001b[0mpickle\u001b[0m\u001b[1;33m.\u001b[0m\u001b[0mload\u001b[0m\u001b[1;33m(\u001b[0m\u001b[0mf\u001b[0m\u001b[1;33m)\u001b[0m\u001b[1;33m\u001b[0m\u001b[1;33m\u001b[0m\u001b[0m\n\u001b[0m\u001b[0;32m      9\u001b[0m     \u001b[1;32mreturn\u001b[0m \u001b[0mX_train\u001b[0m\u001b[1;33m,\u001b[0m \u001b[0my_train\u001b[0m\u001b[1;33m,\u001b[0m \u001b[0mX_val\u001b[0m\u001b[1;33m,\u001b[0m \u001b[0my_val\u001b[0m\u001b[1;33m,\u001b[0m \u001b[0mnormalizer\u001b[0m\u001b[1;33m\u001b[0m\u001b[1;33m\u001b[0m\u001b[0m\n\u001b[0;32m     10\u001b[0m \u001b[1;33m\u001b[0m\u001b[0m\n",
      "\u001b[1;31mNameError\u001b[0m: name 'pickle' is not defined"
     ]
    }
   ],
   "source": [
    "train()"
   ]
  },
  {
   "cell_type": "code",
   "execution_count": null,
   "metadata": {},
   "outputs": [],
   "source": []
  },
  {
   "cell_type": "code",
   "execution_count": null,
   "metadata": {},
   "outputs": [],
   "source": []
  },
  {
   "cell_type": "code",
   "execution_count": null,
   "metadata": {},
   "outputs": [],
   "source": []
  },
  {
   "cell_type": "code",
   "execution_count": null,
   "metadata": {},
   "outputs": [],
   "source": []
  },
  {
   "cell_type": "code",
   "execution_count": null,
   "metadata": {},
   "outputs": [],
   "source": []
  },
  {
   "cell_type": "code",
   "execution_count": null,
   "metadata": {},
   "outputs": [],
   "source": []
  },
  {
   "cell_type": "code",
   "execution_count": null,
   "metadata": {},
   "outputs": [],
   "source": []
  },
  {
   "cell_type": "code",
   "execution_count": null,
   "metadata": {},
   "outputs": [],
   "source": []
  }
 ],
 "metadata": {
  "kernelspec": {
   "display_name": "Python 3 (ipykernel)",
   "language": "python",
   "name": "python3"
  },
  "language_info": {
   "codemirror_mode": {
    "name": "ipython",
    "version": 3
   },
   "file_extension": ".py",
   "mimetype": "text/x-python",
   "name": "python",
   "nbconvert_exporter": "python",
   "pygments_lexer": "ipython3",
   "version": "3.7.11"
  }
 },
 "nbformat": 4,
 "nbformat_minor": 4
}
