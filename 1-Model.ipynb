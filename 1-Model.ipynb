{
 "cells": [
  {
   "cell_type": "code",
   "execution_count": 57,
   "metadata": {
    "_cell_guid": "b1076dfc-b9ad-4769-8c92-a6c4dae69d19",
    "_uuid": "8f2839f25d086af736a60e9eeb907d3b93b6e0e5",
    "execution": {
     "iopub.execute_input": "2022-03-28T03:49:23.391623Z",
     "iopub.status.busy": "2022-03-28T03:49:23.391350Z",
     "iopub.status.idle": "2022-03-28T03:49:23.408501Z",
     "shell.execute_reply": "2022-03-28T03:49:23.407478Z",
     "shell.execute_reply.started": "2022-03-28T03:49:23.391596Z"
    }
   },
   "outputs": [
    {
     "name": "stdout",
     "output_type": "stream",
     "text": [
      "/kaggle/input/venezia/venezia.csv\n",
      "/kaggle/input/venezia/Punta_Salute_1983_2015/Punta_Salute_1985.csv\n",
      "/kaggle/input/venezia/Punta_Salute_1983_2015/Punta_Salute_1996.csv\n",
      "/kaggle/input/venezia/Punta_Salute_1983_2015/Punta_Salute_1993.csv\n",
      "/kaggle/input/venezia/Punta_Salute_1983_2015/Punta_Salute_1992.csv\n",
      "/kaggle/input/venezia/Punta_Salute_1983_2015/Punta_Salute_1986.csv\n",
      "/kaggle/input/venezia/Punta_Salute_1983_2015/Punta_Salute_2009.csv\n",
      "/kaggle/input/venezia/Punta_Salute_1983_2015/Punta_Salute_1988.csv\n",
      "/kaggle/input/venezia/Punta_Salute_1983_2015/Punta_Salute_2013.csv\n",
      "/kaggle/input/venezia/Punta_Salute_1983_2015/Punta_Salute_2005.csv\n",
      "/kaggle/input/venezia/Punta_Salute_1983_2015/Punta_Salute_2001.csv\n",
      "/kaggle/input/venezia/Punta_Salute_1983_2015/Punta_Salute_1990.csv\n",
      "/kaggle/input/venezia/Punta_Salute_1983_2015/Punta_Salute_1984.csv\n",
      "/kaggle/input/venezia/Punta_Salute_1983_2015/Punta_Salute_2012.csv\n",
      "/kaggle/input/venezia/Punta_Salute_1983_2015/Punta_Salute_1983.csv\n",
      "/kaggle/input/venezia/Punta_Salute_1983_2015/Punta_Salute_1997.csv\n",
      "/kaggle/input/venezia/Punta_Salute_1983_2015/Punta_Salute_2003.csv\n",
      "/kaggle/input/venezia/Punta_Salute_1983_2015/Punta_Salute_1989.csv\n",
      "/kaggle/input/venezia/Punta_Salute_1983_2015/Punta_Salute_1987.csv\n",
      "/kaggle/input/venezia/Punta_Salute_1983_2015/Punta_Salute_1995.csv\n",
      "/kaggle/input/venezia/Punta_Salute_1983_2015/Punta_Salute_2015.csv\n",
      "/kaggle/input/venezia/Punta_Salute_1983_2015/Punta_Salute_2004.csv\n",
      "/kaggle/input/venezia/Punta_Salute_1983_2015/Punta_Salute_1994.csv\n",
      "/kaggle/input/venezia/Punta_Salute_1983_2015/Punta_Salute_1999.csv\n",
      "/kaggle/input/venezia/Punta_Salute_1983_2015/Punta_Salute_2006.csv\n",
      "/kaggle/input/venezia/Punta_Salute_1983_2015/Punta_Salute_2010.csv\n",
      "/kaggle/input/venezia/Punta_Salute_1983_2015/Punta_Salute_2000.csv\n",
      "/kaggle/input/venezia/Punta_Salute_1983_2015/Punta_Salute_2007.csv\n",
      "/kaggle/input/venezia/Punta_Salute_1983_2015/Punta_Salute_1991.csv\n",
      "/kaggle/input/venezia/Punta_Salute_1983_2015/Punta_Salute_1998.csv\n",
      "/kaggle/input/venezia/Punta_Salute_1983_2015/Punta_Salute_2002.csv\n",
      "/kaggle/input/venezia/Punta_Salute_1983_2015/Punta_Salute_2011.csv\n",
      "/kaggle/input/venezia/Punta_Salute_1983_2015/Punta_Salute_2014.csv\n",
      "/kaggle/input/venezia/Punta_Salute_1983_2015/Punta_Salute_2008.csv\n"
     ]
    }
   ],
   "source": [
    "# This Python 3 environment comes with many helpful analytics libraries installed\n",
    "# It is defined by the kaggle/python Docker image: https://github.com/kaggle/docker-python\n",
    "# For example, here's several helpful packages to load\n",
    "\n",
    "import numpy as np # linear algebra\n",
    "import pandas as pd # data processing, CSV file I/O (e.g. pd.read_csv)\n",
    "\n",
    "# Input data files are available in the read-only \"../input/\" directory\n",
    "# For example, running this (by clicking run or pressing Shift+Enter) will list all files under the input directory\n",
    "\n",
    "import os\n",
    "# for dirname, _, filenames in os.walk('/kaggle/input'):\n",
    "#     for filename in filenames:\n",
    "#         print(os.path.join(dirname, filename))\n",
    "\n",
    "# You can write up to 20GB to the current directory (/kaggle/working/) that gets preserved as output when you create a version using \"Save & Run All\" \n",
    "# You can also write temporary files to /kaggle/temp/, but they won't be saved outside of the current session"
   ]
  },
  {
   "cell_type": "code",
   "execution_count": 58,
   "metadata": {
    "execution": {
     "iopub.execute_input": "2022-03-28T03:49:23.518287Z",
     "iopub.status.busy": "2022-03-28T03:49:23.517998Z",
     "iopub.status.idle": "2022-03-28T03:49:23.522983Z",
     "shell.execute_reply": "2022-03-28T03:49:23.522296Z",
     "shell.execute_reply.started": "2022-03-28T03:49:23.518258Z"
    }
   },
   "outputs": [],
   "source": [
    "import os\n",
    "\n",
    "import numpy as np\n",
    "import pandas as pd\n",
    "\n",
    "from sklearn.model_selection import TimeSeriesSplit\n",
    "from sklearn.preprocessing import StandardScaler\n",
    "\n",
    "import tensorflow as tf\n",
    "import tensorflow.keras.backend as K"
   ]
  },
  {
   "cell_type": "code",
   "execution_count": 59,
   "metadata": {
    "execution": {
     "iopub.execute_input": "2022-03-28T03:49:23.616991Z",
     "iopub.status.busy": "2022-03-28T03:49:23.616113Z",
     "iopub.status.idle": "2022-03-28T03:49:23.622896Z",
     "shell.execute_reply": "2022-03-28T03:49:23.622253Z",
     "shell.execute_reply.started": "2022-03-28T03:49:23.616939Z"
    }
   },
   "outputs": [],
   "source": [
    "config = {\n",
    "    \"N_PREV\": 90,\n",
    "    \"N_FWD\": 30,\n",
    "    \n",
    "    \"ENCODER_SIZE\": 16,\n",
    "    \"DECODER_SIZE\": 16,\n",
    "    \n",
    "    \"TEST_SIZE\": 0.1\n",
    "}"
   ]
  },
  {
   "cell_type": "markdown",
   "metadata": {},
   "source": [
    "## **Load DataFrame**"
   ]
  },
  {
   "cell_type": "code",
   "execution_count": 60,
   "metadata": {
    "execution": {
     "iopub.execute_input": "2022-03-28T03:49:23.669283Z",
     "iopub.status.busy": "2022-03-28T03:49:23.668703Z",
     "iopub.status.idle": "2022-03-28T03:49:24.080218Z",
     "shell.execute_reply": "2022-03-28T03:49:24.078998Z",
     "shell.execute_reply.started": "2022-03-28T03:49:23.669245Z"
    }
   },
   "outputs": [
    {
     "data": {
      "text/html": [
       "<div>\n",
       "<style scoped>\n",
       "    .dataframe tbody tr th:only-of-type {\n",
       "        vertical-align: middle;\n",
       "    }\n",
       "\n",
       "    .dataframe tbody tr th {\n",
       "        vertical-align: top;\n",
       "    }\n",
       "\n",
       "    .dataframe thead th {\n",
       "        text-align: right;\n",
       "    }\n",
       "</style>\n",
       "<table border=\"1\" class=\"dataframe\">\n",
       "  <thead>\n",
       "    <tr style=\"text-align: right;\">\n",
       "      <th></th>\n",
       "      <th>datetime</th>\n",
       "      <th>level</th>\n",
       "    </tr>\n",
       "  </thead>\n",
       "  <tbody>\n",
       "    <tr>\n",
       "      <th>0</th>\n",
       "      <td>1983-01-01 01:00:00</td>\n",
       "      <td>44.0</td>\n",
       "    </tr>\n",
       "    <tr>\n",
       "      <th>1</th>\n",
       "      <td>1983-01-01 02:00:00</td>\n",
       "      <td>35.0</td>\n",
       "    </tr>\n",
       "    <tr>\n",
       "      <th>2</th>\n",
       "      <td>1983-01-01 03:00:00</td>\n",
       "      <td>23.0</td>\n",
       "    </tr>\n",
       "    <tr>\n",
       "      <th>3</th>\n",
       "      <td>1983-01-01 04:00:00</td>\n",
       "      <td>10.0</td>\n",
       "    </tr>\n",
       "    <tr>\n",
       "      <th>4</th>\n",
       "      <td>1983-01-01 05:00:00</td>\n",
       "      <td>1.0</td>\n",
       "    </tr>\n",
       "  </tbody>\n",
       "</table>\n",
       "</div>"
      ],
      "text/plain": [
       "             datetime  level\n",
       "0 1983-01-01 01:00:00   44.0\n",
       "1 1983-01-01 02:00:00   35.0\n",
       "2 1983-01-01 03:00:00   23.0\n",
       "3 1983-01-01 04:00:00   10.0\n",
       "4 1983-01-01 05:00:00    1.0"
      ]
     },
     "execution_count": 60,
     "metadata": {},
     "output_type": "execute_result"
    }
   ],
   "source": [
    "df = pd.read_csv('/kaggle/input/venezia/venezia.csv')\n",
    "df['datetime'] = pd.to_datetime(df['datetime'], infer_datetime_format=True)\n",
    "df.sort_values(by='datetime', inplace=True, ignore_index=True)\n",
    "df.head()"
   ]
  },
  {
   "cell_type": "markdown",
   "metadata": {},
   "source": [
    "## **Analying Time Increments**"
   ]
  },
  {
   "cell_type": "code",
   "execution_count": 12,
   "metadata": {},
   "outputs": [
    {
     "name": "stdout",
     "output_type": "stream",
     "text": [
      "TIME INCREMENTS\n",
      "0 - 5\n",
      "3600 - 289261\n",
      "7200 - 5\n"
     ]
    }
   ],
   "source": [
    "values = df.datetime.values.astype('int64') // 10**9\n",
    "ranges = values[1:]-values[:-1]\n",
    "vals, counts = np.unique(ranges, return_counts=True)\n",
    "print(\"TIME INCREMENTS\")\n",
    "for val, count in zip(vals, counts):\n",
    "    print(f\"{val} - {count}\")"
   ]
  },
  {
   "cell_type": "code",
   "execution_count": 13,
   "metadata": {},
   "outputs": [
    {
     "name": "stdout",
     "output_type": "stream",
     "text": [
      "BAD INDECIES\n",
      "INCREMENT: 0 FROM 140255: 57.0 TO 140256: 57.0\n",
      "INCREMENT: 7200 FROM 148991: 6.0 TO 148992: 6.0\n",
      "INCREMENT: 0 FROM 198815: 54.0 TO 198816: 54.0\n",
      "INCREMENT: 7200 FROM 198839: 51.0 TO 198840: 51.0\n",
      "INCREMENT: 0 FROM 219143: 2.0 TO 219144: 2.0\n",
      "INCREMENT: 7200 FROM 227903: 19.0 TO 227904: 19.0\n",
      "INCREMENT: 0 FROM 242639: 37.0 TO 242640: 37.0\n",
      "INCREMENT: 7200 FROM 242663: 56.0 TO 242664: 56.0\n",
      "INCREMENT: 0 FROM 251399: -1.0 TO 251400: -1.0\n",
      "INCREMENT: 7200 FROM 251423: 8.0 TO 251424: 8.0\n"
     ]
    }
   ],
   "source": [
    "bad_indecies = [[x, x+1] for x in np.where(ranges!=3600)[0]]\n",
    "print(\"BAD INDECIES\")\n",
    "for [idx1, idx2] in bad_indecies:\n",
    "    print(f\"INCREMENT: {values[idx2] - values[idx1]} FROM {idx1}: {df.level.values[idx1]} TO {idx2}: {df.level.values[idx1]}\")"
   ]
  },
  {
   "cell_type": "markdown",
   "metadata": {},
   "source": [
    "## **Clean Zero Increments**"
   ]
  },
  {
   "cell_type": "code",
   "execution_count": 14,
   "metadata": {},
   "outputs": [
    {
     "data": {
      "text/html": [
       "<div>\n",
       "<style scoped>\n",
       "    .dataframe tbody tr th:only-of-type {\n",
       "        vertical-align: middle;\n",
       "    }\n",
       "\n",
       "    .dataframe tbody tr th {\n",
       "        vertical-align: top;\n",
       "    }\n",
       "\n",
       "    .dataframe thead th {\n",
       "        text-align: right;\n",
       "    }\n",
       "</style>\n",
       "<table border=\"1\" class=\"dataframe\">\n",
       "  <thead>\n",
       "    <tr style=\"text-align: right;\">\n",
       "      <th></th>\n",
       "      <th>index</th>\n",
       "      <th>datetime</th>\n",
       "      <th>level</th>\n",
       "    </tr>\n",
       "  </thead>\n",
       "  <tbody>\n",
       "    <tr>\n",
       "      <th>0</th>\n",
       "      <td>0</td>\n",
       "      <td>1983-01-01 01:00:00</td>\n",
       "      <td>44.0</td>\n",
       "    </tr>\n",
       "    <tr>\n",
       "      <th>1</th>\n",
       "      <td>1</td>\n",
       "      <td>1983-01-01 02:00:00</td>\n",
       "      <td>35.0</td>\n",
       "    </tr>\n",
       "    <tr>\n",
       "      <th>2</th>\n",
       "      <td>2</td>\n",
       "      <td>1983-01-01 03:00:00</td>\n",
       "      <td>23.0</td>\n",
       "    </tr>\n",
       "    <tr>\n",
       "      <th>3</th>\n",
       "      <td>3</td>\n",
       "      <td>1983-01-01 04:00:00</td>\n",
       "      <td>10.0</td>\n",
       "    </tr>\n",
       "    <tr>\n",
       "      <th>4</th>\n",
       "      <td>4</td>\n",
       "      <td>1983-01-01 05:00:00</td>\n",
       "      <td>1.0</td>\n",
       "    </tr>\n",
       "  </tbody>\n",
       "</table>\n",
       "</div>"
      ],
      "text/plain": [
       "   index            datetime  level\n",
       "0      0 1983-01-01 01:00:00   44.0\n",
       "1      1 1983-01-01 02:00:00   35.0\n",
       "2      2 1983-01-01 03:00:00   23.0\n",
       "3      3 1983-01-01 04:00:00   10.0\n",
       "4      4 1983-01-01 05:00:00    1.0"
      ]
     },
     "execution_count": 14,
     "metadata": {},
     "output_type": "execute_result"
    }
   ],
   "source": [
    "df = df.drop(axis=0, index=[x[0] for x in bad_indecies if values[x[1]] - values[x[0]] == 0]).reset_index(drop=True)\n",
    "df.head()"
   ]
  },
  {
   "cell_type": "code",
   "execution_count": 15,
   "metadata": {},
   "outputs": [
    {
     "name": "stdout",
     "output_type": "stream",
     "text": [
      "TIME INCREMENTS\n",
      "3600 - 289261\n",
      "7200 - 5\n"
     ]
    }
   ],
   "source": [
    "values = df.datetime.values.astype('int64') // 10**9\n",
    "ranges = values[1:]-values[:-1]\n",
    "vals, counts = np.unique(ranges, return_counts=True)\n",
    "print(\"TIME INCREMENTS\")\n",
    "for val, count in zip(vals, counts):\n",
    "    print(f\"{val} - {count}\")"
   ]
  },
  {
   "cell_type": "code",
   "execution_count": 16,
   "metadata": {},
   "outputs": [
    {
     "name": "stdout",
     "output_type": "stream",
     "text": [
      "BAD INDECIES\n",
      "INCREMENT: 7200 FROM 148990: 6.0 TO 148991: 6.0\n",
      "INCREMENT: 7200 FROM 198837: 51.0 TO 198838: 51.0\n",
      "INCREMENT: 7200 FROM 227900: 19.0 TO 227901: 19.0\n",
      "INCREMENT: 7200 FROM 242659: 56.0 TO 242660: 56.0\n",
      "INCREMENT: 7200 FROM 251418: 8.0 TO 251419: 8.0\n"
     ]
    }
   ],
   "source": [
    "bad_indecies = [[x, x+1] for x in np.where(ranges!=3600)[0]]\n",
    "print(\"BAD INDECIES\")\n",
    "for [idx1, idx2] in bad_indecies:\n",
    "    print(f\"INCREMENT: {values[idx2] - values[idx1]} FROM {idx1}: {df.level.values[idx1]} TO {idx2}: {df.level.values[idx1]}\")"
   ]
  },
  {
   "cell_type": "markdown",
   "metadata": {},
   "source": [
    "## **Data Functions**"
   ]
  },
  {
   "cell_type": "code",
   "execution_count": null,
   "metadata": {},
   "outputs": [],
   "source": [
    "def get_splits():\n",
    "    data = df.values\n",
    "    splits = []\n",
    "    tss = TimeSeriesSplit(n_splits=5, test_size=int(df.shape[0]*config[\"TEST_SIZE\"]))\n",
    "    for train_idxs, test_idxs in tss.split(data):\n",
    "        final_train_sample = train_idxs[-1]\n",
    "        final_test_sample = test_idxs[-1]\n",
    "        splits.append([final_train_sample, final_test_sample])\n",
    "    return splits\n",
    "\n",
    "def get_data(split):\n",
    "    data = df.values\n",
    "    X_train, y_train = [], []\n",
    "    X_val, y_val = [], []\n",
    "    [final_train_sample, final_test_sample] = split\n",
    "    for i in range(final_train_sample-config[\"N_FWD\"]-config[\"N_PREV\"]):\n",
    "        X_train.append(data[i:i+config[\"N_PREV\"]])\n",
    "        y_train.append(data[i+config[\"N_PREV\"]:i+config[\"N_PREV\"]+config[\"N_FWD\"]])\n",
    "    for i in range(final_train_sample, final_test_sample-config[\"N_FWD\"]-config[\"N_PREV\"]):\n",
    "        X_val.append(data[i:i+config[\"N_PREV\"]])\n",
    "        y_val.append(data[i+config[\"N_PREV\"]:i+config[\"N_PREV\"]+config[\"N_FWD\"]])\n",
    "    return np.array(X_train), np.array(y_train), np.array(X_val), np.array(y_val)"
   ]
  },
  {
   "cell_type": "markdown",
   "metadata": {},
   "source": [
    "## **Model Functions**"
   ]
  },
  {
   "cell_type": "code",
   "execution_count": 65,
   "metadata": {
    "execution": {
     "iopub.execute_input": "2022-03-28T03:50:19.375882Z",
     "iopub.status.busy": "2022-03-28T03:50:19.375593Z",
     "iopub.status.idle": "2022-03-28T03:50:20.865323Z",
     "shell.execute_reply": "2022-03-28T03:50:20.864286Z",
     "shell.execute_reply.started": "2022-03-28T03:50:19.375849Z"
    }
   },
   "outputs": [
    {
     "name": "stdout",
     "output_type": "stream",
     "text": [
      "144636 173563\n",
      "173563 202490\n",
      "202490 231417\n",
      "231417 260344\n",
      "260344 289271\n"
     ]
    }
   ],
   "source": [
    "def simple_encoder_decoder():\n",
    "    inputs = tf.keras.layers.Input(shape=(config[\"N_PREV\"], 1))\n",
    "    x, hidden_state, cell_state = tf.keras.layers.LSTM(config[\"ENCODER_SIZE\"], \n",
    "                                                       return_sequences=True, \n",
    "                                                       return_states=True, \n",
    "                                                       recurrent_initializer='glorot_uniform', \n",
    "                                                       activity_regularizer=L1L2(l1=0.000001, l2=0.000001))(inputs)\n",
    "    \n",
    "    decoder = tf.keras.layers.LSTM(config[\"DECODER_SIZE\"],\n",
    "                                   return_sequences=True,\n",
    "                                   return_states=True,\n",
    "                                   recurrent_initializer='glorot_uniform', \n",
    "                                   activity_regularizer=L1L2(l1=0.000001, l2=0.000001))\n",
    "    decoder_output = tf.keras.layers.Dense(1)\n",
    "    outputs = []\n",
    "    last_value = inputs[:, -1, 1]\n",
    "    states = [hidden_state, cell_state]\n",
    "    for i in range(config[\"N_FWD\"]):\n",
    "        x, hidden_state, cell_state = decoder([last_value], initial_state=states)\n",
    "        states=[hidden_state, cell_state]\n",
    "        "
   ]
  },
  {
   "cell_type": "code",
   "execution_count": null,
   "metadata": {},
   "outputs": [],
   "source": []
  },
  {
   "cell_type": "code",
   "execution_count": null,
   "metadata": {},
   "outputs": [],
   "source": []
  }
 ],
 "metadata": {
  "kernelspec": {
   "display_name": "Python 3 (ipykernel)",
   "language": "python",
   "name": "python3"
  },
  "language_info": {
   "codemirror_mode": {
    "name": "ipython",
    "version": 3
   },
   "file_extension": ".py",
   "mimetype": "text/x-python",
   "name": "python",
   "nbconvert_exporter": "python",
   "pygments_lexer": "ipython3",
   "version": "3.7.11"
  }
 },
 "nbformat": 4,
 "nbformat_minor": 4
}
