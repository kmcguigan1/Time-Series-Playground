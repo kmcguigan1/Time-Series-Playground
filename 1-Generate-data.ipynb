{
 "cells": [
  {
   "cell_type": "code",
   "execution_count": 1,
   "id": "790af1ef-7916-4dce-94dd-82edbd7771e0",
   "metadata": {},
   "outputs": [],
   "source": [
    "import os\n",
    "import pickle\n",
    "\n",
    "import numpy as np\n",
    "import pandas as pd\n",
    "\n",
    "from sklearn.model_selection import TimeSeriesSplit\n",
    "from sklearn.preprocessing import StandardScaler"
   ]
  },
  {
   "cell_type": "code",
   "execution_count": 2,
   "id": "f4ea9343-feb9-46a7-b48c-617170cec004",
   "metadata": {},
   "outputs": [],
   "source": [
    "config = {\n",
    "    \"N_PREV\": 60,\n",
    "    \"N_FWD\": 30,\n",
    "    \n",
    "    \"TEST_SIZE\": 0.15\n",
    "}"
   ]
  },
  {
   "cell_type": "markdown",
   "id": "c5459caf-39e0-4d81-b9f4-551395c2f31d",
   "metadata": {},
   "source": [
    "## **Load DataFrame**"
   ]
  },
  {
   "cell_type": "code",
   "execution_count": 3,
   "id": "8ba67470-1074-485b-9671-6d613b9586b9",
   "metadata": {},
   "outputs": [
    {
     "data": {
      "text/html": [
       "<div>\n",
       "<style scoped>\n",
       "    .dataframe tbody tr th:only-of-type {\n",
       "        vertical-align: middle;\n",
       "    }\n",
       "\n",
       "    .dataframe tbody tr th {\n",
       "        vertical-align: top;\n",
       "    }\n",
       "\n",
       "    .dataframe thead th {\n",
       "        text-align: right;\n",
       "    }\n",
       "</style>\n",
       "<table border=\"1\" class=\"dataframe\">\n",
       "  <thead>\n",
       "    <tr style=\"text-align: right;\">\n",
       "      <th></th>\n",
       "      <th>datetime</th>\n",
       "      <th>level</th>\n",
       "    </tr>\n",
       "  </thead>\n",
       "  <tbody>\n",
       "    <tr>\n",
       "      <th>0</th>\n",
       "      <td>1983-01-01 01:00:00</td>\n",
       "      <td>44.0</td>\n",
       "    </tr>\n",
       "    <tr>\n",
       "      <th>1</th>\n",
       "      <td>1983-01-01 02:00:00</td>\n",
       "      <td>35.0</td>\n",
       "    </tr>\n",
       "    <tr>\n",
       "      <th>2</th>\n",
       "      <td>1983-01-01 03:00:00</td>\n",
       "      <td>23.0</td>\n",
       "    </tr>\n",
       "    <tr>\n",
       "      <th>3</th>\n",
       "      <td>1983-01-01 04:00:00</td>\n",
       "      <td>10.0</td>\n",
       "    </tr>\n",
       "    <tr>\n",
       "      <th>4</th>\n",
       "      <td>1983-01-01 05:00:00</td>\n",
       "      <td>1.0</td>\n",
       "    </tr>\n",
       "  </tbody>\n",
       "</table>\n",
       "</div>"
      ],
      "text/plain": [
       "             datetime  level\n",
       "0 1983-01-01 01:00:00   44.0\n",
       "1 1983-01-01 02:00:00   35.0\n",
       "2 1983-01-01 03:00:00   23.0\n",
       "3 1983-01-01 04:00:00   10.0\n",
       "4 1983-01-01 05:00:00    1.0"
      ]
     },
     "execution_count": 3,
     "metadata": {},
     "output_type": "execute_result"
    }
   ],
   "source": [
    "df = pd.read_csv('data/venezia.csv')\n",
    "df['datetime'] = pd.to_datetime(df['datetime'], infer_datetime_format=True)\n",
    "df.sort_values(by='datetime', inplace=True, ignore_index=True)\n",
    "df.head()"
   ]
  },
  {
   "cell_type": "markdown",
   "id": "bbf77e00-6284-4793-9bea-ba6c88e78b42",
   "metadata": {},
   "source": [
    "## **Analying Time Increments**"
   ]
  },
  {
   "cell_type": "code",
   "execution_count": 4,
   "id": "6137ec22-3127-41e6-9e84-e040f5e038c5",
   "metadata": {},
   "outputs": [
    {
     "name": "stdout",
     "output_type": "stream",
     "text": [
      "TIME INCREMENTS\n",
      "0 - 5\n",
      "3600 - 289261\n",
      "7200 - 5\n"
     ]
    }
   ],
   "source": [
    "values = df.datetime.values.astype('int64') // 10**9\n",
    "ranges = values[1:]-values[:-1]\n",
    "vals, counts = np.unique(ranges, return_counts=True)\n",
    "print(\"TIME INCREMENTS\")\n",
    "for val, count in zip(vals, counts):\n",
    "    print(f\"{val} - {count}\")"
   ]
  },
  {
   "cell_type": "code",
   "execution_count": 5,
   "id": "f9da6732-51f4-4574-be6e-268d1c192f38",
   "metadata": {},
   "outputs": [
    {
     "name": "stdout",
     "output_type": "stream",
     "text": [
      "BAD INDECIES\n",
      "INCREMENT: 0 FROM 140255: 57.0 TO 140256: 57.0\n",
      "INCREMENT: 7200 FROM 148991: 6.0 TO 148992: 6.0\n",
      "INCREMENT: 0 FROM 198815: 54.0 TO 198816: 54.0\n",
      "INCREMENT: 7200 FROM 198839: 51.0 TO 198840: 51.0\n",
      "INCREMENT: 0 FROM 219143: 2.0 TO 219144: 2.0\n",
      "INCREMENT: 7200 FROM 227903: 19.0 TO 227904: 19.0\n",
      "INCREMENT: 0 FROM 242639: 37.0 TO 242640: 37.0\n",
      "INCREMENT: 7200 FROM 242663: 56.0 TO 242664: 56.0\n",
      "INCREMENT: 0 FROM 251399: -1.0 TO 251400: -1.0\n",
      "INCREMENT: 7200 FROM 251423: 8.0 TO 251424: 8.0\n"
     ]
    }
   ],
   "source": [
    "bad_indecies = [[x, x+1] for x in np.where(ranges!=3600)[0]]\n",
    "print(\"BAD INDECIES\")\n",
    "for [idx1, idx2] in bad_indecies:\n",
    "    print(f\"INCREMENT: {values[idx2] - values[idx1]} FROM {idx1}: {df.level.values[idx1]} TO {idx2}: {df.level.values[idx1]}\")"
   ]
  },
  {
   "cell_type": "markdown",
   "id": "91836f51-59c1-4372-805f-7376e8988da5",
   "metadata": {},
   "source": [
    "## **Clean Zero Increments**"
   ]
  },
  {
   "cell_type": "code",
   "execution_count": 6,
   "id": "a1d14476-3502-4ae1-8acd-0cc45a983138",
   "metadata": {},
   "outputs": [
    {
     "data": {
      "text/html": [
       "<div>\n",
       "<style scoped>\n",
       "    .dataframe tbody tr th:only-of-type {\n",
       "        vertical-align: middle;\n",
       "    }\n",
       "\n",
       "    .dataframe tbody tr th {\n",
       "        vertical-align: top;\n",
       "    }\n",
       "\n",
       "    .dataframe thead th {\n",
       "        text-align: right;\n",
       "    }\n",
       "</style>\n",
       "<table border=\"1\" class=\"dataframe\">\n",
       "  <thead>\n",
       "    <tr style=\"text-align: right;\">\n",
       "      <th></th>\n",
       "      <th>datetime</th>\n",
       "      <th>level</th>\n",
       "    </tr>\n",
       "  </thead>\n",
       "  <tbody>\n",
       "    <tr>\n",
       "      <th>0</th>\n",
       "      <td>1983-01-01 01:00:00</td>\n",
       "      <td>44.0</td>\n",
       "    </tr>\n",
       "    <tr>\n",
       "      <th>1</th>\n",
       "      <td>1983-01-01 02:00:00</td>\n",
       "      <td>35.0</td>\n",
       "    </tr>\n",
       "    <tr>\n",
       "      <th>2</th>\n",
       "      <td>1983-01-01 03:00:00</td>\n",
       "      <td>23.0</td>\n",
       "    </tr>\n",
       "    <tr>\n",
       "      <th>3</th>\n",
       "      <td>1983-01-01 04:00:00</td>\n",
       "      <td>10.0</td>\n",
       "    </tr>\n",
       "    <tr>\n",
       "      <th>4</th>\n",
       "      <td>1983-01-01 05:00:00</td>\n",
       "      <td>1.0</td>\n",
       "    </tr>\n",
       "  </tbody>\n",
       "</table>\n",
       "</div>"
      ],
      "text/plain": [
       "             datetime  level\n",
       "0 1983-01-01 01:00:00   44.0\n",
       "1 1983-01-01 02:00:00   35.0\n",
       "2 1983-01-01 03:00:00   23.0\n",
       "3 1983-01-01 04:00:00   10.0\n",
       "4 1983-01-01 05:00:00    1.0"
      ]
     },
     "execution_count": 6,
     "metadata": {},
     "output_type": "execute_result"
    }
   ],
   "source": [
    "df = df.drop(axis=0, index=[x[0] for x in bad_indecies if values[x[1]] - values[x[0]] == 0]).reset_index(drop=True)\n",
    "df.head()"
   ]
  },
  {
   "cell_type": "code",
   "execution_count": 7,
   "id": "594322cb-60a3-4b03-94e1-b5abdd9a5292",
   "metadata": {},
   "outputs": [
    {
     "name": "stdout",
     "output_type": "stream",
     "text": [
      "TIME INCREMENTS\n",
      "3600 - 289261\n",
      "7200 - 5\n"
     ]
    }
   ],
   "source": [
    "values = df.datetime.values.astype('int64') // 10**9\n",
    "ranges = values[1:]-values[:-1]\n",
    "vals, counts = np.unique(ranges, return_counts=True)\n",
    "print(\"TIME INCREMENTS\")\n",
    "for val, count in zip(vals, counts):\n",
    "    print(f\"{val} - {count}\")"
   ]
  },
  {
   "cell_type": "code",
   "execution_count": 8,
   "id": "218b08bb-b85d-4d85-aead-9c10deb83884",
   "metadata": {},
   "outputs": [
    {
     "name": "stdout",
     "output_type": "stream",
     "text": [
      "BAD INDECIES\n",
      "INCREMENT: 7200 FROM 148990: 6.0 TO 148991: 6.0\n",
      "INCREMENT: 7200 FROM 198837: 51.0 TO 198838: 51.0\n",
      "INCREMENT: 7200 FROM 227900: 19.0 TO 227901: 19.0\n",
      "INCREMENT: 7200 FROM 242659: 56.0 TO 242660: 56.0\n",
      "INCREMENT: 7200 FROM 251418: 8.0 TO 251419: 8.0\n"
     ]
    }
   ],
   "source": [
    "bad_indecies = [[x, x+1] for x in np.where(ranges!=3600)[0]]\n",
    "print(\"BAD INDECIES\")\n",
    "for [idx1, idx2] in bad_indecies:\n",
    "    print(f\"INCREMENT: {values[idx2] - values[idx1]} FROM {idx1}: {df.level.values[idx1]} TO {idx2}: {df.level.values[idx1]}\")"
   ]
  },
  {
   "cell_type": "markdown",
   "id": "64ee9b51-9b01-429b-bad2-9c9a4ef3db1f",
   "metadata": {},
   "source": [
    "## **Data Functions**"
   ]
  },
  {
   "cell_type": "code",
   "execution_count": 9,
   "id": "808ef43e-70c6-4b7b-b4e4-b273d8e178ae",
   "metadata": {},
   "outputs": [],
   "source": [
    "def get_splits():\n",
    "    data = df.values\n",
    "    splits = []\n",
    "    tss = TimeSeriesSplit(n_splits=3, test_size=int(df.shape[0]*config[\"TEST_SIZE\"]))\n",
    "    for train_idxs, test_idxs in tss.split(data):\n",
    "        final_train_sample = train_idxs[-1]\n",
    "        final_test_sample = test_idxs[-1]\n",
    "        splits.append([final_train_sample, final_test_sample])\n",
    "    return splits\n",
    "\n",
    "SPLITS = get_splits()"
   ]
  },
  {
   "cell_type": "code",
   "execution_count": 10,
   "id": "60c1d8af-b079-46ba-aab1-130e70de8ea8",
   "metadata": {},
   "outputs": [],
   "source": [
    "def get_data(split):\n",
    "    data = df.level.values\n",
    "    [final_train_sample, final_test_sample] = split\n",
    "    normalizer = StandardScaler()\n",
    "    normalizer.fit(data[:final_train_sample].reshape(-1,1))\n",
    "    data = normalizer.transform(data.reshape(-1,1)).flatten()\n",
    "    X_train, y_train = [], []\n",
    "    X_val, y_val = [], []\n",
    "    for i in range(final_train_sample-config[\"N_FWD\"]-config[\"N_PREV\"]):\n",
    "        X_train.append(data[i:i+config[\"N_PREV\"]])\n",
    "        y_train.append(data[i+config[\"N_PREV\"]:i+config[\"N_PREV\"]+config[\"N_FWD\"]])\n",
    "    for i in range(final_train_sample, final_test_sample-config[\"N_FWD\"]-config[\"N_PREV\"]):\n",
    "        X_val.append(data[i:i+config[\"N_PREV\"]])\n",
    "        y_val.append(data[i+config[\"N_PREV\"]:i+config[\"N_PREV\"]+config[\"N_FWD\"]])\n",
    "    return np.array(X_train), np.array(y_train), np.array(X_val), np.array(y_val), normalizer"
   ]
  },
  {
   "cell_type": "code",
   "execution_count": 11,
   "id": "47407588-6836-4344-9d58-4000fc4931d4",
   "metadata": {},
   "outputs": [],
   "source": [
    "for fold, split in enumerate(SPLITS):\n",
    "    X_train, y_train, X_val, y_val, normalizer = get_data(split)\n",
    "    with open(f'./data/fold{fold+1}_data_v2.npy', mode='wb') as f:\n",
    "        np.save(f, X_train)\n",
    "        np.save(f, y_train)\n",
    "        np.save(f, X_val)\n",
    "        np.save(f, y_val)\n",
    "    with open(f'./data/fold{fold+1}_normalizer_v2.pkl', mode='wb') as f:\n",
    "        pickle.dump(normalizer, f)"
   ]
  },
  {
   "cell_type": "code",
   "execution_count": null,
   "id": "0a1b47da-5fe8-4b7c-92ad-95d76d84b308",
   "metadata": {},
   "outputs": [],
   "source": []
  }
 ],
 "metadata": {
  "kernelspec": {
   "display_name": "Python 3 (ipykernel)",
   "language": "python",
   "name": "python3"
  },
  "language_info": {
   "codemirror_mode": {
    "name": "ipython",
    "version": 3
   },
   "file_extension": ".py",
   "mimetype": "text/x-python",
   "name": "python",
   "nbconvert_exporter": "python",
   "pygments_lexer": "ipython3",
   "version": "3.7.13"
  }
 },
 "nbformat": 4,
 "nbformat_minor": 5
}
