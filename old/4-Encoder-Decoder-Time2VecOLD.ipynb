{
 "cells": [
  {
   "cell_type": "code",
   "execution_count": 1,
   "metadata": {},
   "outputs": [],
   "source": [
    "import os\n",
    "import pickle\n",
    "import gc\n",
    "\n",
    "import numpy as np\n",
    "import pandas as pd\n",
    "\n",
    "import matplotlib.pyplot as plt\n",
    "\n",
    "import tensorflow as tf\n",
    "import tensorflow.keras.backend as K\n",
    "from tensorflow.keras.regularizers import L1L2"
   ]
  },
  {
   "cell_type": "code",
   "execution_count": 2,
   "metadata": {},
   "outputs": [],
   "source": [
    "MODEL = \"encoder-decoder-t2v\"\n",
    "\n",
    "config = {    \n",
    "    \"TIME_DIMS\": 4,\n",
    "    \"ENCODER_SIZE\": 16,\n",
    "    \"DENSE_SIZE\": 64,\n",
    "    \n",
    "    \"LR\": 0.001,\n",
    "    \"BATCH_SIZE\": 32,\n",
    "    \"EPOCHS\": 30,\n",
    "}"
   ]
  },
  {
   "cell_type": "code",
   "execution_count": 3,
   "metadata": {},
   "outputs": [],
   "source": [
    "RUN_WANDB = False\n",
    "\n",
    "if(RUN_WANDB):\n",
    "    import wandb\n",
    "    from wandb.keras import WandbCallback\n",
    "    from secrets import WANDB\n",
    "    wandb.login(key=WANDB)"
   ]
  },
  {
   "cell_type": "markdown",
   "metadata": {},
   "source": [
    "## **Load Data Function**"
   ]
  },
  {
   "cell_type": "code",
   "execution_count": 4,
   "metadata": {},
   "outputs": [
    {
     "name": "stdout",
     "output_type": "stream",
     "text": [
      "[30.73084645 29.04061676]\n"
     ]
    },
    {
     "data": {
      "text/html": [
       "<div>\n",
       "<style scoped>\n",
       "    .dataframe tbody tr th:only-of-type {\n",
       "        vertical-align: middle;\n",
       "    }\n",
       "\n",
       "    .dataframe tbody tr th {\n",
       "        vertical-align: top;\n",
       "    }\n",
       "\n",
       "    .dataframe thead th {\n",
       "        text-align: right;\n",
       "    }\n",
       "</style>\n",
       "<table border=\"1\" class=\"dataframe\">\n",
       "  <thead>\n",
       "    <tr style=\"text-align: right;\">\n",
       "      <th></th>\n",
       "      <th>datetime</th>\n",
       "      <th>level</th>\n",
       "    </tr>\n",
       "  </thead>\n",
       "  <tbody>\n",
       "    <tr>\n",
       "      <th>0</th>\n",
       "      <td>2005-12-31 12:00:00</td>\n",
       "      <td>60.0</td>\n",
       "    </tr>\n",
       "    <tr>\n",
       "      <th>1</th>\n",
       "      <td>2005-12-31 13:00:00</td>\n",
       "      <td>43.0</td>\n",
       "    </tr>\n",
       "    <tr>\n",
       "      <th>2</th>\n",
       "      <td>2005-12-31 14:00:00</td>\n",
       "      <td>23.0</td>\n",
       "    </tr>\n",
       "    <tr>\n",
       "      <th>3</th>\n",
       "      <td>2005-12-31 15:00:00</td>\n",
       "      <td>1.0</td>\n",
       "    </tr>\n",
       "    <tr>\n",
       "      <th>4</th>\n",
       "      <td>2005-12-31 16:00:00</td>\n",
       "      <td>-12.0</td>\n",
       "    </tr>\n",
       "    <tr>\n",
       "      <th>...</th>\n",
       "      <td>...</td>\n",
       "      <td>...</td>\n",
       "    </tr>\n",
       "    <tr>\n",
       "      <th>52591</th>\n",
       "      <td>2011-12-31 19:00:00</td>\n",
       "      <td>0.0</td>\n",
       "    </tr>\n",
       "    <tr>\n",
       "      <th>52592</th>\n",
       "      <td>2011-12-31 20:00:00</td>\n",
       "      <td>-2.0</td>\n",
       "    </tr>\n",
       "    <tr>\n",
       "      <th>52593</th>\n",
       "      <td>2011-12-31 21:00:00</td>\n",
       "      <td>2.0</td>\n",
       "    </tr>\n",
       "    <tr>\n",
       "      <th>52594</th>\n",
       "      <td>2011-12-31 22:00:00</td>\n",
       "      <td>9.0</td>\n",
       "    </tr>\n",
       "    <tr>\n",
       "      <th>52595</th>\n",
       "      <td>2011-12-31 23:00:00</td>\n",
       "      <td>15.0</td>\n",
       "    </tr>\n",
       "  </tbody>\n",
       "</table>\n",
       "<p>52596 rows × 2 columns</p>\n",
       "</div>"
      ],
      "text/plain": [
       "                  datetime  level\n",
       "0      2005-12-31 12:00:00   60.0\n",
       "1      2005-12-31 13:00:00   43.0\n",
       "2      2005-12-31 14:00:00   23.0\n",
       "3      2005-12-31 15:00:00    1.0\n",
       "4      2005-12-31 16:00:00  -12.0\n",
       "...                    ...    ...\n",
       "52591  2011-12-31 19:00:00    0.0\n",
       "52592  2011-12-31 20:00:00   -2.0\n",
       "52593  2011-12-31 21:00:00    2.0\n",
       "52594  2011-12-31 22:00:00    9.0\n",
       "52595  2011-12-31 23:00:00   15.0\n",
       "\n",
       "[52596 rows x 2 columns]"
      ]
     },
     "execution_count": 4,
     "metadata": {},
     "output_type": "execute_result"
    }
   ],
   "source": [
    "def get_data(fold):\n",
    "    df = pd.read_csv(f'./data/fold_{fold}.csv')\n",
    "    with open(f'./data/fold_{fold}.npy', mode='rb') as f:\n",
    "        train_historical_series = np.load(f, allow_pickle=False)\n",
    "        train_historical_covariates = np.load(f, allow_pickle=False) \n",
    "        train_future_covariates = np.load(f, allow_pickle=False)\n",
    "        train_future_series = np.load(f, allow_pickle=False)\n",
    "        # val arrays\n",
    "        val_historical_series = np.load(f, allow_pickle=False)\n",
    "        val_historical_covariates = np.load(f, allow_pickle=False) \n",
    "        val_future_covariates = np.load(f, allow_pickle=False)\n",
    "        val_future_series = np.load(f, allow_pickle=False)\n",
    "        # test arrays\n",
    "        test_historical_series = np.load(f, allow_pickle=False)\n",
    "        test_historical_covariates = np.load(f, allow_pickle=False) \n",
    "        test_future_covariates = np.load(f, allow_pickle=False)\n",
    "        test_future_series = np.load(f, allow_pickle=False)\n",
    "        test_dates = np.load(f, allow_pickle=True)\n",
    "        # data info\n",
    "        data_features = np.load(f, allow_pickle=False)\n",
    "    return (\n",
    "        (train_historical_series,train_historical_covariates,train_future_covariates),\n",
    "        train_future_series, \n",
    "        (val_historical_series,val_historical_covariates,val_future_covariates),\n",
    "        val_future_series, \n",
    "        (test_historical_series,test_historical_covariates,test_future_covariates), \n",
    "        test_future_series, \n",
    "        test_dates,\n",
    "        data_features,\n",
    "        df\n",
    "    )\n",
    "\n",
    "X_train, y_train, X_val, y_val, X_test, y_test, test_dates, data_features, df = get_data(2)\n",
    "print(data_features)\n",
    "df"
   ]
  },
  {
   "cell_type": "code",
   "execution_count": 5,
   "metadata": {},
   "outputs": [
    {
     "data": {
      "text/plain": [
       "((43734, 72, 1), (43734, 72, 4), (43734, 24, 4))"
      ]
     },
     "execution_count": 5,
     "metadata": {},
     "output_type": "execute_result"
    }
   ],
   "source": [
    "X_train[0].shape, X_train[1].shape, X_train[2].shape"
   ]
  },
  {
   "cell_type": "markdown",
   "metadata": {},
   "source": [
    "## **Model Functions**"
   ]
  },
  {
   "cell_type": "code",
   "execution_count": 6,
   "metadata": {},
   "outputs": [
    {
     "name": "stdout",
     "output_type": "stream",
     "text": [
      "Metal device set to: Apple M1 Pro\n"
     ]
    },
    {
     "name": "stderr",
     "output_type": "stream",
     "text": [
      "2022-12-14 16:13:53.059493: I tensorflow/core/common_runtime/pluggable_device/pluggable_device_factory.cc:305] Could not identify NUMA node of platform GPU ID 0, defaulting to 0. Your kernel may not have been built with NUMA support.\n",
      "2022-12-14 16:13:53.059812: I tensorflow/core/common_runtime/pluggable_device/pluggable_device_factory.cc:271] Created TensorFlow device (/job:localhost/replica:0/task:0/device:GPU:0 with 0 MB memory) -> physical PluggableDevice (device: 0, name: METAL, pci bus id: <undefined>)\n"
     ]
    },
    {
     "name": "stdout",
     "output_type": "stream",
     "text": [
      "Model: \"model\"\n",
      "__________________________________________________________________________________________________\n",
      " Layer (type)                   Output Shape         Param #     Connected to                     \n",
      "==================================================================================================\n",
      " input_1 (InputLayer)           [(None, 72, 1)]      0           []                               \n",
      "                                                                                                  \n",
      " time2_vec (Time2Vec)           (None, 72, 4)        292         ['input_1[0][0]']                \n",
      "                                                                                                  \n",
      " lstm (LSTM)                    (None, 72, 16)       1344        ['time2_vec[0][0]']              \n",
      "                                                                                                  \n",
      " lstm_1 (LSTM)                  (None, 16)           2112        ['lstm[0][0]']                   \n",
      "                                                                                                  \n",
      " dense (Dense)                  (None, 64)           1088        ['lstm_1[0][0]']                 \n",
      "                                                                                                  \n",
      " dense_1 (Dense)                (None, 24)           1560        ['dense[0][0]']                  \n",
      "                                                                                                  \n",
      " tf.expand_dims (TFOpLambda)    (None, 24, 1)        0           ['dense_1[0][0]']                \n",
      "                                                                                                  \n",
      " time_distributed (TimeDistribu  (None, 24, 1)       2           ['tf.expand_dims[0][0]']         \n",
      " ted)                                                                                             \n",
      "                                                                                                  \n",
      " input_2 (InputLayer)           [(None, 72, 4)]      0           []                               \n",
      "                                                                                                  \n",
      " input_3 (InputLayer)           [(None, 24, 4)]      0           []                               \n",
      "                                                                                                  \n",
      " tf.compat.v1.squeeze (TFOpLamb  (None, 24)          0           ['time_distributed[0][0]']       \n",
      " da)                                                                                              \n",
      "                                                                                                  \n",
      "==================================================================================================\n",
      "Total params: 6,398\n",
      "Trainable params: 6,398\n",
      "Non-trainable params: 0\n",
      "__________________________________________________________________________________________________\n"
     ]
    }
   ],
   "source": [
    "class Time2Vec(tf.keras.layers.Layer):\n",
    "    def __init__(self, kernel_size=None, **kwargs):\n",
    "        self.kernel_size = kernel_size\n",
    "        super(Time2Vec, self).__init__(**kwargs)\n",
    "    def get_config(self):\n",
    "        config = super(Time2Vec, self).get_config()\n",
    "        config.update({\"kernel_size\": self.kernel_size})\n",
    "        return config\n",
    "    def build(self, input_shape):\n",
    "        # expects the dims of input to be (batch_size, sequence_length, time_dims)\n",
    "        # these parameters are for the linear space embedding, not periodic\n",
    "        # converts time dims to just one, gives one linear time embedding per step in sequence\n",
    "        self.w = self.add_weight(name='w',\n",
    "                                 shape=(input_shape[-1], 1),\n",
    "                                 initializer='uniform',\n",
    "                                 trainable=True)\n",
    "        self.p = self.add_weight(name='p',\n",
    "                                 shape=(input_shape[-2], 1),\n",
    "                                 initializer='uniform',\n",
    "                                 trainable=True)\n",
    "        # These variables are used to be periodic in nature\n",
    "        # converts the time dim to a vector of length kernel size - 1, adding these together we get vector length k for each time step\n",
    "        self.W = self.add_weight(name='W',\n",
    "                                 shape=(input_shape[-1], self.kernel_size-1),\n",
    "                                 initializer='uniform',\n",
    "                                 trainable=True)\n",
    "        self.P = self.add_weight(name='P',\n",
    "                                 shape=(input_shape[-2], self.kernel_size-1),\n",
    "                                 initializer='uniform',\n",
    "                                 trainable=True)\n",
    "        super(Time2Vec, self).build(input_shape)\n",
    "    def call(self, inputs):\n",
    "        original = K.dot(inputs, self.w) + self.p\n",
    "        sin_trans = K.sin(K.dot(inputs, self.W) + self.P)\n",
    "        return K.concatenate([original, sin_trans], axis=-1) \n",
    "\n",
    "def simple_encoder_decoder(historical_series_shape, historical_covariates_shape, future_covariates_shape):\n",
    "    historical_series = tf.keras.layers.Input(shape=historical_series_shape)\n",
    "    historical_covariates = tf.keras.layers.Input(shape=historical_covariates_shape)\n",
    "    future_covariates = tf.keras.layers.Input(shape=future_covariates_shape)\n",
    "    \n",
    "    historicals = Time2Vec(config[\"TIME_DIMS\"])(historical_series)\n",
    "#     historicals = tf.keras.layers.Concatenate()([encoded_series, historical_covariates])\n",
    "    embeddings = tf.keras.layers.LSTM(config[\"ENCODER_SIZE\"], \n",
    "                                      return_sequences=True, \n",
    "                                      return_state=False, \n",
    "                                      recurrent_initializer='glorot_uniform', \n",
    "                                      activity_regularizer=L1L2(l1=0.000001, l2=0.000001))(historicals)\n",
    "    embeddings = tf.keras.layers.LSTM(config[\"ENCODER_SIZE\"],\n",
    "                                      return_sequences=False,\n",
    "                                      return_state=False,\n",
    "                                      recurrent_initializer='glorot_uniform', \n",
    "                                      activity_regularizer=L1L2(l1=0.000001, l2=0.000001))(embeddings)\n",
    "    \n",
    "    decoder = tf.keras.layers.Dense(config[\"DENSE_SIZE\"])(embeddings)\n",
    "    decoder = tf.keras.layers.Dense(future_covariates_shape[0])(decoder)\n",
    "    decoder = tf.expand_dims(decoder, -1)\n",
    "    \n",
    "    stacked_decoder = decoder\n",
    "#     stacked_decoder = tf.keras.layers.Concatenate()([decoder, future_covariates])\n",
    "    \n",
    "    outputs = tf.keras.layers.TimeDistributed(tf.keras.layers.Dense(1))(stacked_decoder)\n",
    "    outputs = tf.squeeze(outputs, axis=-1)\n",
    "    model = tf.keras.models.Model(inputs=[historical_series, historical_covariates, future_covariates], outputs=outputs)\n",
    "    model.compile(loss=\"mse\", metrics=[\"mae\"], optimizer=tf.keras.optimizers.Adam(learning_rate=config[\"LR\"]))\n",
    "    return model\n",
    "\n",
    "model = simple_encoder_decoder(X_train[0].shape[1:], X_train[1].shape[1:], X_train[2].shape[1:])\n",
    "model.summary()"
   ]
  },
  {
   "cell_type": "code",
   "execution_count": 7,
   "metadata": {},
   "outputs": [
    {
     "name": "stdout",
     "output_type": "stream",
     "text": [
      "Epoch 1/30\n"
     ]
    },
    {
     "name": "stderr",
     "output_type": "stream",
     "text": [
      "2022-12-14 16:13:53.768279: W tensorflow/core/platform/profile_utils/cpu_utils.cc:128] Failed to get CPU frequency: 0 Hz\n",
      "2022-12-14 16:13:55.326237: I tensorflow/core/grappler/optimizers/custom_graph_optimizer_registry.cc:113] Plugin optimizer for device_type GPU is enabled.\n",
      "2022-12-14 16:13:55.606183: I tensorflow/core/grappler/optimizers/custom_graph_optimizer_registry.cc:113] Plugin optimizer for device_type GPU is enabled.\n",
      "2022-12-14 16:13:55.777762: I tensorflow/core/grappler/optimizers/custom_graph_optimizer_registry.cc:113] Plugin optimizer for device_type GPU is enabled.\n",
      "2022-12-14 16:13:56.208874: I tensorflow/core/grappler/optimizers/custom_graph_optimizer_registry.cc:113] Plugin optimizer for device_type GPU is enabled.\n",
      "2022-12-14 16:13:56.525012: I tensorflow/core/grappler/optimizers/custom_graph_optimizer_registry.cc:113] Plugin optimizer for device_type GPU is enabled.\n"
     ]
    },
    {
     "name": "stdout",
     "output_type": "stream",
     "text": [
      "1367/1367 [==============================] - ETA: 0s - loss: 0.2804 - mae: 0.3727"
     ]
    },
    {
     "name": "stderr",
     "output_type": "stream",
     "text": [
      "2022-12-14 16:15:07.213544: I tensorflow/core/grappler/optimizers/custom_graph_optimizer_registry.cc:113] Plugin optimizer for device_type GPU is enabled.\n",
      "2022-12-14 16:15:07.311657: I tensorflow/core/grappler/optimizers/custom_graph_optimizer_registry.cc:113] Plugin optimizer for device_type GPU is enabled.\n",
      "2022-12-14 16:15:07.442956: I tensorflow/core/grappler/optimizers/custom_graph_optimizer_registry.cc:113] Plugin optimizer for device_type GPU is enabled.\n"
     ]
    },
    {
     "name": "stdout",
     "output_type": "stream",
     "text": [
      "1367/1367 [==============================] - 81s 57ms/step - loss: 0.2804 - mae: 0.3727 - val_loss: 0.0698 - val_mae: 0.1962 - lr: 0.0010\n",
      "Epoch 2/30\n",
      "1367/1367 [==============================] - 75s 55ms/step - loss: 0.0936 - mae: 0.2208 - val_loss: 0.0612 - val_mae: 0.1808 - lr: 0.0010\n",
      "Epoch 3/30\n",
      "1367/1367 [==============================] - 74s 54ms/step - loss: 0.0889 - mae: 0.2139 - val_loss: 0.0625 - val_mae: 0.1836 - lr: 0.0010\n",
      "Epoch 4/30\n",
      "1367/1367 [==============================] - 69s 50ms/step - loss: 0.0861 - mae: 0.2096 - val_loss: 0.0618 - val_mae: 0.1826 - lr: 0.0010\n",
      "Epoch 5/30\n",
      "1367/1367 [==============================] - 69s 50ms/step - loss: 0.0818 - mae: 0.2024 - val_loss: 0.0558 - val_mae: 0.1701 - lr: 1.0000e-04\n",
      "Epoch 6/30\n",
      "1367/1367 [==============================] - 69s 50ms/step - loss: 0.0814 - mae: 0.2017 - val_loss: 0.0557 - val_mae: 0.1698 - lr: 1.0000e-04\n",
      "Epoch 7/30\n",
      "1367/1367 [==============================] - 70s 51ms/step - loss: 0.0812 - mae: 0.2014 - val_loss: 0.0558 - val_mae: 0.1699 - lr: 1.0000e-04\n",
      "Epoch 8/30\n",
      "1367/1367 [==============================] - 71s 52ms/step - loss: 0.0810 - mae: 0.2011 - val_loss: 0.0559 - val_mae: 0.1704 - lr: 1.0000e-04\n",
      "Epoch 9/30\n",
      "1367/1367 [==============================] - 72s 53ms/step - loss: 0.0805 - mae: 0.2002 - val_loss: 0.0555 - val_mae: 0.1692 - lr: 1.0000e-05\n",
      "Epoch 10/30\n",
      "1367/1367 [==============================] - 71s 52ms/step - loss: 0.0804 - mae: 0.2002 - val_loss: 0.0554 - val_mae: 0.1690 - lr: 1.0000e-05\n",
      "Epoch 11/30\n",
      "1367/1367 [==============================] - 72s 53ms/step - loss: 0.0804 - mae: 0.2001 - val_loss: 0.0554 - val_mae: 0.1692 - lr: 1.0000e-05\n",
      "Epoch 12/30\n",
      "1367/1367 [==============================] - 73s 53ms/step - loss: 0.0804 - mae: 0.2001 - val_loss: 0.0553 - val_mae: 0.1689 - lr: 1.0000e-05\n",
      "Epoch 13/30\n",
      "1367/1367 [==============================] - 72s 53ms/step - loss: 0.0803 - mae: 0.2000 - val_loss: 0.0553 - val_mae: 0.1689 - lr: 1.0000e-06\n",
      "Epoch 14/30\n",
      "1367/1367 [==============================] - 72s 53ms/step - loss: 0.0803 - mae: 0.1999 - val_loss: 0.0553 - val_mae: 0.1689 - lr: 1.0000e-06\n",
      "Epoch 15/30\n",
      "1367/1367 [==============================] - 72s 53ms/step - loss: 0.0803 - mae: 0.2000 - val_loss: 0.0553 - val_mae: 0.1689 - lr: 1.0000e-07\n",
      "Epoch 16/30\n",
      "1367/1367 [==============================] - 73s 53ms/step - loss: 0.0803 - mae: 0.2000 - val_loss: 0.0553 - val_mae: 0.1689 - lr: 1.0000e-07\n",
      "Epoch 17/30\n",
      "1367/1367 [==============================] - 70s 51ms/step - loss: 0.0803 - mae: 0.2000 - val_loss: 0.0553 - val_mae: 0.1689 - lr: 1.0000e-08\n"
     ]
    },
    {
     "data": {
      "text/plain": [
       "<keras.callbacks.History at 0x2c1bfafd0>"
      ]
     },
     "execution_count": 7,
     "metadata": {},
     "output_type": "execute_result"
    }
   ],
   "source": [
    "reducer = tf.keras.callbacks.ReduceLROnPlateau(monior='val_loss', factor=0.1, patience=2, mode='min', cooldown=1)\n",
    "stopper = tf.keras.callbacks.EarlyStopping(monitor='val_loss', patience=4, mode='min', restore_best_weights=True)\n",
    "if(RUN_WANDB):\n",
    "    callbacks = [reducer, stopper, WandbCallback()]\n",
    "else:\n",
    "    callbacks = [reducer, stopper]\n",
    "\n",
    "model.fit(X_train, y_train,\n",
    "          batch_size=config[\"BATCH_SIZE\"],\n",
    "          epochs=config[\"EPOCHS\"], \n",
    "          callbacks=callbacks,\n",
    "          validation_data=(X_val, y_val),\n",
    "          validation_batch_size=config[\"BATCH_SIZE\"],\n",
    "          shuffle=True)"
   ]
  },
  {
   "cell_type": "code",
   "execution_count": 8,
   "metadata": {},
   "outputs": [
    {
     "name": "stdout",
     "output_type": "stream",
     "text": [
      "271/271 [==============================] - 7s 27ms/step - loss: 0.0966 - mae: 0.2084\n"
     ]
    },
    {
     "data": {
      "text/plain": [
       "[0.09663622081279755, 0.20843693614006042]"
      ]
     },
     "execution_count": 8,
     "metadata": {},
     "output_type": "execute_result"
    }
   ],
   "source": [
    "model.evaluate(X_test, y_test)"
   ]
  },
  {
   "cell_type": "code",
   "execution_count": 9,
   "metadata": {},
   "outputs": [
    {
     "name": "stderr",
     "output_type": "stream",
     "text": [
      "2022-12-14 16:34:27.781407: I tensorflow/core/grappler/optimizers/custom_graph_optimizer_registry.cc:113] Plugin optimizer for device_type GPU is enabled.\n",
      "2022-12-14 16:34:27.858635: I tensorflow/core/grappler/optimizers/custom_graph_optimizer_registry.cc:113] Plugin optimizer for device_type GPU is enabled.\n",
      "2022-12-14 16:34:27.979542: I tensorflow/core/grappler/optimizers/custom_graph_optimizer_registry.cc:113] Plugin optimizer for device_type GPU is enabled.\n"
     ]
    },
    {
     "name": "stdout",
     "output_type": "stream",
     "text": [
      "271/271 [==============================] - 7s 23ms/step\n"
     ]
    },
    {
     "data": {
      "text/plain": [
       "array([[26.547935 , 32.09235  , 36.636173 , ..., 25.712482 , 30.60103  ,\n",
       "        33.91458  ],\n",
       "       [33.054672 , 40.040916 , 45.56031  , ..., 31.22228  , 34.842896 ,\n",
       "        37.773514 ],\n",
       "       [40.27483  , 47.865234 , 53.54908  , ..., 34.879143 , 37.74749  ,\n",
       "        40.84002  ],\n",
       "       ...,\n",
       "       [28.55518  , 15.359157 ,  7.463972 , ..., 60.540752 , 60.85241  ,\n",
       "        52.86841  ],\n",
       "       [16.10894  ,  8.158495 ,  7.8741283, ..., 60.300488 , 52.39501  ,\n",
       "        39.54756  ],\n",
       "       [ 9.844748 ,  9.366932 , 16.761297 , ..., 52.36672  , 39.11532  ,\n",
       "        25.155952 ]], dtype=float32)"
      ]
     },
     "execution_count": 9,
     "metadata": {},
     "output_type": "execute_result"
    }
   ],
   "source": [
    "predictions = model.predict(X_test)\n",
    "predictions = (predictions * data_features[1]) + data_features[0]\n",
    "actuals = (y_test * data_features[1]) + data_features[0]\n",
    "predictions"
   ]
  },
  {
   "cell_type": "code",
   "execution_count": 10,
   "metadata": {},
   "outputs": [
    {
     "data": {
      "text/plain": [
       "((8670, 24), (8670, 24))"
      ]
     },
     "execution_count": 10,
     "metadata": {},
     "output_type": "execute_result"
    }
   ],
   "source": [
    "predictions.shape, actuals.shape"
   ]
  },
  {
   "cell_type": "code",
   "execution_count": 12,
   "metadata": {},
   "outputs": [
    {
     "name": "stdout",
     "output_type": "stream",
     "text": [
      "8.825443927517838\n"
     ]
    },
    {
     "data": {
      "image/png": "[encoded data removed]",
      "text/plain": [
       "<Figure size 1584x1152 with 1 Axes>"
      ]
     },
     "metadata": {
      "needs_background": "light"
     },
     "output_type": "display_data"
    }
   ],
   "source": [
    "errors = np.sqrt(np.mean(np.square(predictions - actuals), axis=0))\n",
    "print(np.mean(errors))\n",
    "_, ax = plt.subplots(figsize=(22,16))\n",
    "ax.plot(np.arange(len(errors)), errors);"
   ]
  },
  {
   "cell_type": "code",
   "execution_count": null,
   "metadata": {},
   "outputs": [],
   "source": []
  }
 ],
 "metadata": {
  "kernelspec": {
   "display_name": "Python 3 (ipykernel)",
   "language": "python",
   "name": "python3"
  },
  "language_info": {
   "codemirror_mode": {
    "name": "ipython",
    "version": 3
   },
   "file_extension": ".py",
   "mimetype": "text/x-python",
   "name": "python",
   "nbconvert_exporter": "python",
   "pygments_lexer": "ipython3",
   "version": "3.8.13"
  }
 },
 "nbformat": 4,
 "nbformat_minor": 4
}
