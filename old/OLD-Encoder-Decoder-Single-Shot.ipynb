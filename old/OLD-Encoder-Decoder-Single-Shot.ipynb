{
 "cells": [
  {
   "cell_type": "code",
   "execution_count": 1,
   "metadata": {},
   "outputs": [],
   "source": [
    "import os\n",
    "import pickle\n",
    "import gc\n",
    "\n",
    "import numpy as np\n",
    "import pandas as pd\n",
    "\n",
    "import matplotlib.pyplot as plt\n",
    "\n",
    "import tensorflow as tf\n",
    "import tensorflow.keras.backend as K\n",
    "from tensorflow.keras.regularizers import L1L2"
   ]
  },
  {
   "cell_type": "code",
   "execution_count": 2,
   "metadata": {},
   "outputs": [],
   "source": [
    "MODEL = \"encoder-decoder-single-shot\"\n",
    "\n",
    "config = {    \n",
    "    \"EMBEDDING_SIZE\": 16,\n",
    "    \"DENSE_SIZE\": 64,\n",
    "    \n",
    "    \"LR\": 0.0005,\n",
    "    \"BATCH_SIZE\": 32,\n",
    "    \"EPOCHS\": 30,\n",
    "}"
   ]
  },
  {
   "cell_type": "code",
   "execution_count": 3,
   "metadata": {},
   "outputs": [],
   "source": [
    "RUN_WANDB = False\n",
    "\n",
    "if(RUN_WANDB):\n",
    "    import wandb\n",
    "    from wandb.keras import WandbCallback\n",
    "    from secrets import WANDB\n",
    "    wandb.login(key=WANDB)"
   ]
  },
  {
   "cell_type": "markdown",
   "metadata": {},
   "source": [
    "## **Load Data Function**"
   ]
  },
  {
   "cell_type": "code",
   "execution_count": 4,
   "metadata": {},
   "outputs": [
    {
     "name": "stdout",
     "output_type": "stream",
     "text": [
      "[30.73084645 29.04061676]\n"
     ]
    },
    {
     "data": {
      "text/html": [
       "<div>\n",
       "<style scoped>\n",
       "    .dataframe tbody tr th:only-of-type {\n",
       "        vertical-align: middle;\n",
       "    }\n",
       "\n",
       "    .dataframe tbody tr th {\n",
       "        vertical-align: top;\n",
       "    }\n",
       "\n",
       "    .dataframe thead th {\n",
       "        text-align: right;\n",
       "    }\n",
       "</style>\n",
       "<table border=\"1\" class=\"dataframe\">\n",
       "  <thead>\n",
       "    <tr style=\"text-align: right;\">\n",
       "      <th></th>\n",
       "      <th>datetime</th>\n",
       "      <th>level</th>\n",
       "    </tr>\n",
       "  </thead>\n",
       "  <tbody>\n",
       "    <tr>\n",
       "      <th>0</th>\n",
       "      <td>2005-12-31 12:00:00</td>\n",
       "      <td>60.0</td>\n",
       "    </tr>\n",
       "    <tr>\n",
       "      <th>1</th>\n",
       "      <td>2005-12-31 13:00:00</td>\n",
       "      <td>43.0</td>\n",
       "    </tr>\n",
       "    <tr>\n",
       "      <th>2</th>\n",
       "      <td>2005-12-31 14:00:00</td>\n",
       "      <td>23.0</td>\n",
       "    </tr>\n",
       "    <tr>\n",
       "      <th>3</th>\n",
       "      <td>2005-12-31 15:00:00</td>\n",
       "      <td>1.0</td>\n",
       "    </tr>\n",
       "    <tr>\n",
       "      <th>4</th>\n",
       "      <td>2005-12-31 16:00:00</td>\n",
       "      <td>-12.0</td>\n",
       "    </tr>\n",
       "    <tr>\n",
       "      <th>...</th>\n",
       "      <td>...</td>\n",
       "      <td>...</td>\n",
       "    </tr>\n",
       "    <tr>\n",
       "      <th>52591</th>\n",
       "      <td>2011-12-31 19:00:00</td>\n",
       "      <td>0.0</td>\n",
       "    </tr>\n",
       "    <tr>\n",
       "      <th>52592</th>\n",
       "      <td>2011-12-31 20:00:00</td>\n",
       "      <td>-2.0</td>\n",
       "    </tr>\n",
       "    <tr>\n",
       "      <th>52593</th>\n",
       "      <td>2011-12-31 21:00:00</td>\n",
       "      <td>2.0</td>\n",
       "    </tr>\n",
       "    <tr>\n",
       "      <th>52594</th>\n",
       "      <td>2011-12-31 22:00:00</td>\n",
       "      <td>9.0</td>\n",
       "    </tr>\n",
       "    <tr>\n",
       "      <th>52595</th>\n",
       "      <td>2011-12-31 23:00:00</td>\n",
       "      <td>15.0</td>\n",
       "    </tr>\n",
       "  </tbody>\n",
       "</table>\n",
       "<p>52596 rows × 2 columns</p>\n",
       "</div>"
      ],
      "text/plain": [
       "                  datetime  level\n",
       "0      2005-12-31 12:00:00   60.0\n",
       "1      2005-12-31 13:00:00   43.0\n",
       "2      2005-12-31 14:00:00   23.0\n",
       "3      2005-12-31 15:00:00    1.0\n",
       "4      2005-12-31 16:00:00  -12.0\n",
       "...                    ...    ...\n",
       "52591  2011-12-31 19:00:00    0.0\n",
       "52592  2011-12-31 20:00:00   -2.0\n",
       "52593  2011-12-31 21:00:00    2.0\n",
       "52594  2011-12-31 22:00:00    9.0\n",
       "52595  2011-12-31 23:00:00   15.0\n",
       "\n",
       "[52596 rows x 2 columns]"
      ]
     },
     "execution_count": 4,
     "metadata": {},
     "output_type": "execute_result"
    }
   ],
   "source": [
    "def get_data(fold):\n",
    "    df = pd.read_csv(f'./data/fold_{fold}.csv')\n",
    "    with open(f'./data/fold_{fold}.npy', mode='rb') as f:\n",
    "        train_historical_series = np.load(f, allow_pickle=False)\n",
    "        train_historical_covariates = np.load(f, allow_pickle=False) \n",
    "        train_future_covariates = np.load(f, allow_pickle=False)\n",
    "        train_future_series = np.load(f, allow_pickle=False)\n",
    "        # val arrays\n",
    "        val_historical_series = np.load(f, allow_pickle=False)\n",
    "        val_historical_covariates = np.load(f, allow_pickle=False) \n",
    "        val_future_covariates = np.load(f, allow_pickle=False)\n",
    "        val_future_series = np.load(f, allow_pickle=False)\n",
    "        # test arrays\n",
    "        test_historical_series = np.load(f, allow_pickle=False)\n",
    "        test_historical_covariates = np.load(f, allow_pickle=False) \n",
    "        test_future_covariates = np.load(f, allow_pickle=False)\n",
    "        test_future_series = np.load(f, allow_pickle=False)\n",
    "        test_dates = np.load(f, allow_pickle=True)\n",
    "        # data info\n",
    "        data_features = np.load(f, allow_pickle=False)\n",
    "    return (\n",
    "        (train_historical_series,train_historical_covariates,train_future_covariates),\n",
    "        train_future_series, \n",
    "        (val_historical_series,val_historical_covariates,val_future_covariates),\n",
    "        val_future_series, \n",
    "        (test_historical_series,test_historical_covariates,test_future_covariates), \n",
    "        test_future_series,\n",
    "        test_dates,\n",
    "        data_features,\n",
    "        df\n",
    "    )\n",
    "\n",
    "X_train, y_train, X_val, y_val, X_test, y_test, test_dates, data_features, df = get_data(2)\n",
    "print(data_features)\n",
    "df"
   ]
  },
  {
   "cell_type": "code",
   "execution_count": 5,
   "metadata": {},
   "outputs": [
    {
     "data": {
      "text/plain": [
       "((43734, 72, 1), (43734, 72, 4), (43734, 24, 4))"
      ]
     },
     "execution_count": 5,
     "metadata": {},
     "output_type": "execute_result"
    }
   ],
   "source": [
    "X_train[0].shape, X_train[1].shape, X_train[2].shape"
   ]
  },
  {
   "cell_type": "markdown",
   "metadata": {},
   "source": [
    "## **Model Functions**"
   ]
  },
  {
   "cell_type": "code",
   "execution_count": 6,
   "metadata": {},
   "outputs": [
    {
     "name": "stdout",
     "output_type": "stream",
     "text": [
      "Metal device set to: Apple M1 Pro\n"
     ]
    },
    {
     "name": "stderr",
     "output_type": "stream",
     "text": [
      "2022-12-14 15:18:27.760726: I tensorflow/core/common_runtime/pluggable_device/pluggable_device_factory.cc:305] Could not identify NUMA node of platform GPU ID 0, defaulting to 0. Your kernel may not have been built with NUMA support.\n",
      "2022-12-14 15:18:27.760870: I tensorflow/core/common_runtime/pluggable_device/pluggable_device_factory.cc:271] Created TensorFlow device (/job:localhost/replica:0/task:0/device:GPU:0 with 0 MB memory) -> physical PluggableDevice (device: 0, name: METAL, pci bus id: <undefined>)\n"
     ]
    },
    {
     "name": "stdout",
     "output_type": "stream",
     "text": [
      "Model: \"model\"\n",
      "__________________________________________________________________________________________________\n",
      " Layer (type)                   Output Shape         Param #     Connected to                     \n",
      "==================================================================================================\n",
      " input_1 (InputLayer)           [(None, 72, 1)]      0           []                               \n",
      "                                                                                                  \n",
      " input_2 (InputLayer)           [(None, 72, 4)]      0           []                               \n",
      "                                                                                                  \n",
      " concatenate (Concatenate)      (None, 72, 5)        0           ['input_1[0][0]',                \n",
      "                                                                  'input_2[0][0]']                \n",
      "                                                                                                  \n",
      " lstm (LSTM)                    (None, 72, 16)       1408        ['concatenate[0][0]']            \n",
      "                                                                                                  \n",
      " lstm_1 (LSTM)                  (None, 16)           2112        ['lstm[0][0]']                   \n",
      "                                                                                                  \n",
      " dense (Dense)                  (None, 64)           1088        ['lstm_1[0][0]']                 \n",
      "                                                                                                  \n",
      " dense_1 (Dense)                (None, 24)           1560        ['dense[0][0]']                  \n",
      "                                                                                                  \n",
      " tf.expand_dims (TFOpLambda)    (None, 24, 1)        0           ['dense_1[0][0]']                \n",
      "                                                                                                  \n",
      " input_3 (InputLayer)           [(None, 24, 4)]      0           []                               \n",
      "                                                                                                  \n",
      " concatenate_1 (Concatenate)    (None, 24, 5)        0           ['tf.expand_dims[0][0]',         \n",
      "                                                                  'input_3[0][0]']                \n",
      "                                                                                                  \n",
      " time_distributed (TimeDistribu  (None, 24, 1)       6           ['concatenate_1[0][0]']          \n",
      " ted)                                                                                             \n",
      "                                                                                                  \n",
      " tf.compat.v1.squeeze (TFOpLamb  (None, 24)          0           ['time_distributed[0][0]']       \n",
      " da)                                                                                              \n",
      "                                                                                                  \n",
      "==================================================================================================\n",
      "Total params: 6,174\n",
      "Trainable params: 6,174\n",
      "Non-trainable params: 0\n",
      "__________________________________________________________________________________________________\n"
     ]
    }
   ],
   "source": [
    "def simple_encoder_decoder(historical_series_shape, historical_covariates_shape, future_covariates_shape):\n",
    "    historical_series = tf.keras.layers.Input(shape=historical_series_shape)\n",
    "    historical_covariates = tf.keras.layers.Input(shape=historical_covariates_shape)\n",
    "    future_covariates = tf.keras.layers.Input(shape=future_covariates_shape)\n",
    "    \n",
    "    historicals = tf.keras.layers.Concatenate()([historical_series, historical_covariates])\n",
    "    encoder = tf.keras.layers.LSTM(config[\"EMBEDDING_SIZE\"], \n",
    "                                   return_sequences=True, \n",
    "                                   return_state=False, \n",
    "                                   recurrent_initializer='glorot_uniform', \n",
    "                                   activity_regularizer=L1L2(l1=0.000001, l2=0.000001))(historicals)\n",
    "    \n",
    "    encoder = tf.keras.layers.LSTM(config[\"EMBEDDING_SIZE\"], \n",
    "                                   return_sequences=False, \n",
    "                                   return_state=False, \n",
    "                                   recurrent_initializer='glorot_uniform', \n",
    "                                   activity_regularizer=L1L2(l1=0.000001, l2=0.000001))(encoder)\n",
    "    \n",
    "    decoder = tf.keras.layers.Dense(config[\"DENSE_SIZE\"])(encoder)\n",
    "    decoder = tf.keras.layers.Dense(future_covariates_shape[0])(decoder)\n",
    "    decoder = tf.expand_dims(decoder, -1)\n",
    "    \n",
    "    stacked_decoder = tf.keras.layers.Concatenate()([decoder, future_covariates])\n",
    "    \n",
    "    outputs = tf.keras.layers.TimeDistributed(tf.keras.layers.Dense(1))(stacked_decoder)\n",
    "    outputs = tf.squeeze(outputs, axis=-1)\n",
    "    model = tf.keras.models.Model(inputs=[historical_series, historical_covariates, future_covariates], outputs=outputs)\n",
    "    model.compile(loss=\"mse\", metrics=[\"mae\"], optimizer=tf.keras.optimizers.Adam(learning_rate=config[\"LR\"]))\n",
    "    return model\n",
    "\n",
    "model = simple_encoder_decoder(X_train[0].shape[1:], X_train[1].shape[1:], X_train[2].shape[1:])\n",
    "model.summary()\n",
    "\n",
    "def simple_encoder_decoder(historical_series_shape, historical_covariates_shape, future_covariates_shape):\n",
    "    historical_series = tf.keras.layers.Input(shape=historical_series_shape)\n",
    "    historical_covariates = tf.keras.layers.Input(shape=historical_covariates_shape)\n",
    "    future_covariates = tf.keras.layers.Input(shape=future_covariates_shape)\n",
    "    \n",
    "    historicals = tf.keras.layers.Concatenate()([historical_series, historical_covariates])\n",
    "    hidden = tf.keras.layers.LSTM(config[\"EMBEDDING_SIZE\"], \n",
    "                                  return_sequences=False, \n",
    "                                  return_state=False, \n",
    "                                  recurrent_initializer='glorot_uniform', \n",
    "                                  activity_regularizer=L1L2(l1=0.000001, l2=0.000001))(historicals)\n",
    "    \n",
    "    cell = tf.keras.layers.LSTM(config[\"EMBEDDING_SIZE\"], \n",
    "                                      return_sequences=False, \n",
    "                                      return_state=False, \n",
    "                                      recurrent_initializer='glorot_uniform', \n",
    "                                      activity_regularizer=L1L2(l1=0.000001, l2=0.000001))(historicals)\n",
    "    \n",
    "    decoder = tf.keras.layers.LSTM(config[\"EMBEDDING_SIZE\"],\n",
    "                                   return_sequences=True,\n",
    "                                   return_state=False,\n",
    "                                   recurrent_initializer='glorot_uniform', \n",
    "                                   activity_regularizer=L1L2(l1=0.000001, l2=0.000001))(future_covariates, initial_state=[hidden,cell])\n",
    "    \n",
    "    outputs = tf.keras.layers.TimeDistributed(tf.keras.layers.Dense(1))(decoder)\n",
    "    outputs = tf.squeeze(outputs, axis=-1)\n",
    "    model = tf.keras.models.Model(inputs=[historical_series, historical_covariates, future_covariates], outputs=outputs)\n",
    "    model.compile(loss=\"mse\", metrics=[\"mae\"], optimizer=tf.keras.optimizers.Adam(learning_rate=config[\"LR\"]))\n",
    "    return model\n",
    "\n",
    "model = simple_encoder_decoder(X_train[0].shape[1:], X_train[1].shape[1:], X_train[2].shape[1:])\n",
    "model.summary()"
   ]
  },
  {
   "cell_type": "code",
   "execution_count": 7,
   "metadata": {},
   "outputs": [
    {
     "name": "stdout",
     "output_type": "stream",
     "text": [
      "Epoch 1/30\n"
     ]
    },
    {
     "name": "stderr",
     "output_type": "stream",
     "text": [
      "2022-12-14 15:18:28.763158: W tensorflow/core/platform/profile_utils/cpu_utils.cc:128] Failed to get CPU frequency: 0 Hz\n",
      "2022-12-14 15:18:30.674335: I tensorflow/core/grappler/optimizers/custom_graph_optimizer_registry.cc:113] Plugin optimizer for device_type GPU is enabled.\n",
      "2022-12-14 15:18:30.998428: I tensorflow/core/grappler/optimizers/custom_graph_optimizer_registry.cc:113] Plugin optimizer for device_type GPU is enabled.\n",
      "2022-12-14 15:18:31.276434: I tensorflow/core/grappler/optimizers/custom_graph_optimizer_registry.cc:113] Plugin optimizer for device_type GPU is enabled.\n",
      "2022-12-14 15:18:31.862806: I tensorflow/core/grappler/optimizers/custom_graph_optimizer_registry.cc:113] Plugin optimizer for device_type GPU is enabled.\n",
      "2022-12-14 15:18:32.418667: I tensorflow/core/grappler/optimizers/custom_graph_optimizer_registry.cc:113] Plugin optimizer for device_type GPU is enabled.\n"
     ]
    },
    {
     "name": "stdout",
     "output_type": "stream",
     "text": [
      "1367/1367 [==============================] - ETA: 0s - loss: 0.6618 - mae: 0.6414"
     ]
    },
    {
     "name": "stderr",
     "output_type": "stream",
     "text": [
      "2022-12-14 15:20:44.036084: I tensorflow/core/grappler/optimizers/custom_graph_optimizer_registry.cc:113] Plugin optimizer for device_type GPU is enabled.\n",
      "2022-12-14 15:20:44.211948: I tensorflow/core/grappler/optimizers/custom_graph_optimizer_registry.cc:113] Plugin optimizer for device_type GPU is enabled.\n",
      "2022-12-14 15:20:44.435721: I tensorflow/core/grappler/optimizers/custom_graph_optimizer_registry.cc:113] Plugin optimizer for device_type GPU is enabled.\n"
     ]
    },
    {
     "name": "stdout",
     "output_type": "stream",
     "text": [
      "1367/1367 [==============================] - 151s 107ms/step - loss: 0.6618 - mae: 0.6414 - val_loss: 0.1831 - val_mae: 0.3343 - lr: 5.0000e-04\n",
      "Epoch 2/30\n",
      "1367/1367 [==============================] - 138s 101ms/step - loss: 0.1208 - mae: 0.2565 - val_loss: 0.0685 - val_mae: 0.1956 - lr: 5.0000e-04\n",
      "Epoch 3/30\n",
      "1367/1367 [==============================] - 152s 111ms/step - loss: 0.0886 - mae: 0.2148 - val_loss: 0.0606 - val_mae: 0.1820 - lr: 5.0000e-04\n",
      "Epoch 4/30\n",
      "1367/1367 [==============================] - 146s 106ms/step - loss: 0.0814 - mae: 0.2043 - val_loss: 0.0571 - val_mae: 0.1751 - lr: 5.0000e-04\n",
      "Epoch 5/30\n",
      "1367/1367 [==============================] - 122s 89ms/step - loss: 0.0781 - mae: 0.1993 - val_loss: 0.0561 - val_mae: 0.1735 - lr: 5.0000e-04\n",
      "Epoch 6/30\n",
      "1367/1367 [==============================] - 103s 75ms/step - loss: 0.0763 - mae: 0.1967 - val_loss: 0.0562 - val_mae: 0.1740 - lr: 5.0000e-04\n",
      "Epoch 7/30\n",
      "1367/1367 [==============================] - 101s 74ms/step - loss: 0.0749 - mae: 0.1945 - val_loss: 0.0558 - val_mae: 0.1735 - lr: 5.0000e-04\n",
      "Epoch 8/30\n",
      "1367/1367 [==============================] - 85s 62ms/step - loss: 0.0738 - mae: 0.1926 - val_loss: 0.0559 - val_mae: 0.1734 - lr: 5.0000e-04\n",
      "Epoch 9/30\n",
      "1367/1367 [==============================] - 84s 61ms/step - loss: 0.0731 - mae: 0.1918 - val_loss: 0.0539 - val_mae: 0.1691 - lr: 5.0000e-04\n",
      "Epoch 10/30\n",
      "1367/1367 [==============================] - 86s 63ms/step - loss: 0.0724 - mae: 0.1907 - val_loss: 0.0532 - val_mae: 0.1679 - lr: 5.0000e-04\n",
      "Epoch 11/30\n",
      "1367/1367 [==============================] - 102s 75ms/step - loss: 0.0720 - mae: 0.1902 - val_loss: 0.0535 - val_mae: 0.1683 - lr: 5.0000e-04\n",
      "Epoch 12/30\n",
      "1367/1367 [==============================] - 135s 99ms/step - loss: 0.0716 - mae: 0.1893 - val_loss: 0.0527 - val_mae: 0.1668 - lr: 5.0000e-04\n",
      "Epoch 13/30\n",
      "1367/1367 [==============================] - 121s 89ms/step - loss: 0.0713 - mae: 0.1889 - val_loss: 0.0517 - val_mae: 0.1640 - lr: 5.0000e-04\n",
      "Epoch 14/30\n",
      "1367/1367 [==============================] - 105s 77ms/step - loss: 0.0706 - mae: 0.1879 - val_loss: 0.0534 - val_mae: 0.1679 - lr: 5.0000e-04\n",
      "Epoch 15/30\n",
      "1367/1367 [==============================] - 106s 77ms/step - loss: 0.0703 - mae: 0.1874 - val_loss: 0.0520 - val_mae: 0.1648 - lr: 5.0000e-04\n",
      "Epoch 16/30\n",
      "1367/1367 [==============================] - 110s 81ms/step - loss: 0.0679 - mae: 0.1827 - val_loss: 0.0514 - val_mae: 0.1634 - lr: 5.0000e-05\n",
      "Epoch 17/30\n",
      "1367/1367 [==============================] - 116s 85ms/step - loss: 0.0677 - mae: 0.1825 - val_loss: 0.0504 - val_mae: 0.1616 - lr: 5.0000e-05\n",
      "Epoch 18/30\n",
      "1367/1367 [==============================] - 108s 79ms/step - loss: 0.0677 - mae: 0.1824 - val_loss: 0.0504 - val_mae: 0.1615 - lr: 5.0000e-05\n",
      "Epoch 19/30\n",
      "1367/1367 [==============================] - 109s 80ms/step - loss: 0.0676 - mae: 0.1822 - val_loss: 0.0514 - val_mae: 0.1635 - lr: 5.0000e-05\n",
      "Epoch 20/30\n",
      "1367/1367 [==============================] - 109s 80ms/step - loss: 0.0673 - mae: 0.1819 - val_loss: 0.0505 - val_mae: 0.1618 - lr: 5.0000e-06\n",
      "Epoch 21/30\n",
      "1367/1367 [==============================] - 120s 88ms/step - loss: 0.0673 - mae: 0.1817 - val_loss: 0.0505 - val_mae: 0.1617 - lr: 5.0000e-06\n",
      "Epoch 22/30\n",
      "1367/1367 [==============================] - 92s 67ms/step - loss: 0.0672 - mae: 0.1816 - val_loss: 0.0505 - val_mae: 0.1617 - lr: 5.0000e-07\n"
     ]
    },
    {
     "data": {
      "text/plain": [
       "<keras.callbacks.History at 0x2d100bfd0>"
      ]
     },
     "execution_count": 7,
     "metadata": {},
     "output_type": "execute_result"
    }
   ],
   "source": [
    "reducer = tf.keras.callbacks.ReduceLROnPlateau(monior='val_loss', factor=0.1, patience=2, mode='min', cooldown=1)\n",
    "stopper = tf.keras.callbacks.EarlyStopping(monitor='val_loss', patience=4, mode='min', restore_best_weights=True)\n",
    "if(RUN_WANDB):\n",
    "    callbacks = [reducer, stopper, WandbCallback()]\n",
    "else:\n",
    "    callbacks = [reducer, stopper]\n",
    "\n",
    "model.fit(X_train, y_train,\n",
    "          batch_size=config[\"BATCH_SIZE\"],\n",
    "          epochs=config[\"EPOCHS\"], \n",
    "          callbacks=callbacks,\n",
    "          validation_data=(X_val, y_val),\n",
    "          validation_batch_size=config[\"BATCH_SIZE\"],\n",
    "          shuffle=True)"
   ]
  },
  {
   "cell_type": "code",
   "execution_count": 8,
   "metadata": {},
   "outputs": [
    {
     "name": "stdout",
     "output_type": "stream",
     "text": [
      "271/271 [==============================] - 9s 32ms/step - loss: 0.0857 - mae: 0.1952\n"
     ]
    },
    {
     "data": {
      "text/plain": [
       "[0.08570292592048645, 0.19522367417812347]"
      ]
     },
     "execution_count": 8,
     "metadata": {},
     "output_type": "execute_result"
    }
   ],
   "source": [
    "model.evaluate(X_test, y_test)"
   ]
  },
  {
   "cell_type": "code",
   "execution_count": 9,
   "metadata": {},
   "outputs": [
    {
     "name": "stderr",
     "output_type": "stream",
     "text": [
      "2022-12-14 16:00:20.678405: I tensorflow/core/grappler/optimizers/custom_graph_optimizer_registry.cc:113] Plugin optimizer for device_type GPU is enabled.\n",
      "2022-12-14 16:00:20.802610: I tensorflow/core/grappler/optimizers/custom_graph_optimizer_registry.cc:113] Plugin optimizer for device_type GPU is enabled.\n"
     ]
    },
    {
     "name": "stdout",
     "output_type": "stream",
     "text": [
      "\r",
      "  1/271 [..............................] - ETA: 7:12"
     ]
    },
    {
     "name": "stderr",
     "output_type": "stream",
     "text": [
      "2022-12-14 16:00:20.958772: I tensorflow/core/grappler/optimizers/custom_graph_optimizer_registry.cc:113] Plugin optimizer for device_type GPU is enabled.\n"
     ]
    },
    {
     "name": "stdout",
     "output_type": "stream",
     "text": [
      "271/271 [==============================] - 9s 27ms/step\n"
     ]
    },
    {
     "data": {
      "text/plain": [
       "array([[24.312431, 27.26982 , 32.366665, ..., 27.906832, 29.875473,\n",
       "        29.860128],\n",
       "       [30.705061, 35.80661 , 42.42952 , ..., 31.241493, 31.569849,\n",
       "        31.3892  ],\n",
       "       [39.23198 , 45.863773, 52.810226, ..., 32.90455 , 32.88638 ,\n",
       "        33.51498 ],\n",
       "       ...,\n",
       "       [28.147686, 18.067228, 12.201212, ..., 55.189304, 56.631317,\n",
       "        50.41603 ],\n",
       "       [15.062389,  9.226828,  9.858383, ..., 56.33581 , 49.683228,\n",
       "        37.826496],\n",
       "       [ 9.034426,  9.386095, 16.664045, ..., 50.4383  , 38.81209 ,\n",
       "        25.580507]], dtype=float32)"
      ]
     },
     "execution_count": 9,
     "metadata": {},
     "output_type": "execute_result"
    }
   ],
   "source": [
    "predictions = model.predict(X_test)\n",
    "predictions = (predictions * data_features[1]) + data_features[0]\n",
    "actuals = (y_test * data_features[1]) + data_features[0]\n",
    "predictions"
   ]
  },
  {
   "cell_type": "code",
   "execution_count": 10,
   "metadata": {},
   "outputs": [
    {
     "data": {
      "text/plain": [
       "((8670, 24), (8670, 24))"
      ]
     },
     "execution_count": 10,
     "metadata": {},
     "output_type": "execute_result"
    }
   ],
   "source": [
    "predictions.shape, actuals.shape"
   ]
  },
  {
   "cell_type": "code",
   "execution_count": 11,
   "metadata": {},
   "outputs": [
    {
     "name": "stdout",
     "output_type": "stream",
     "text": [
      "8.328495417025872\n"
     ]
    },
    {
     "data": {
      "image/png": "[encoded data removed]",
      "text/plain": [
       "<Figure size 1584x1152 with 1 Axes>"
      ]
     },
     "metadata": {
      "needs_background": "light"
     },
     "output_type": "display_data"
    }
   ],
   "source": [
    "errors = np.sqrt(np.mean(np.square(predictions - actuals), axis=0))\n",
    "print(np.mean(errors))\n",
    "_, ax = plt.subplots(figsize=(22,16))\n",
    "ax.plot(np.arange(len(errors)), errors);"
   ]
  },
  {
   "cell_type": "code",
   "execution_count": null,
   "metadata": {},
   "outputs": [],
   "source": []
  }
 ],
 "metadata": {
  "kernelspec": {
   "display_name": "Python 3 (ipykernel)",
   "language": "python",
   "name": "python3"
  },
  "language_info": {
   "codemirror_mode": {
    "name": "ipython",
    "version": 3
   },
   "file_extension": ".py",
   "mimetype": "text/x-python",
   "name": "python",
   "nbconvert_exporter": "python",
   "pygments_lexer": "ipython3",
   "version": "3.8.13"
  }
 },
 "nbformat": 4,
 "nbformat_minor": 4
}
