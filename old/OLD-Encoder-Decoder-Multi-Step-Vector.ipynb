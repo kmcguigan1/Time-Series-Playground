{
 "cells": [
  {
   "cell_type": "code",
   "execution_count": 1,
   "metadata": {},
   "outputs": [],
   "source": [
    "import os\n",
    "import pickle\n",
    "import gc\n",
    "\n",
    "import numpy as np\n",
    "import pandas as pd\n",
    "\n",
    "import matplotlib.pyplot as plt\n",
    "\n",
    "import tensorflow as tf\n",
    "import tensorflow.keras.backend as K\n",
    "from tensorflow.keras.regularizers import L1L2"
   ]
  },
  {
   "cell_type": "code",
   "execution_count": 2,
   "metadata": {},
   "outputs": [],
   "source": [
    "MODEL = \"encoder-decoder-vector\"\n",
    "\n",
    "config = {    \n",
    "    \"EMBEDDING_SIZE\": 16,\n",
    "    \n",
    "    \"LR\": 0.0005,\n",
    "    \"BATCH_SIZE\": 32,\n",
    "    \"EPOCHS\": 30,\n",
    "}"
   ]
  },
  {
   "cell_type": "code",
   "execution_count": 3,
   "metadata": {},
   "outputs": [],
   "source": [
    "RUN_WANDB = False\n",
    "\n",
    "if(RUN_WANDB):\n",
    "    import wandb\n",
    "    from wandb.keras import WandbCallback\n",
    "    from secrets import WANDB\n",
    "    wandb.login(key=WANDB)"
   ]
  },
  {
   "cell_type": "markdown",
   "metadata": {},
   "source": [
    "## **Load Data Function**"
   ]
  },
  {
   "cell_type": "code",
   "execution_count": 4,
   "metadata": {},
   "outputs": [
    {
     "data": {
      "text/html": [
       "<div>\n",
       "<style scoped>\n",
       "    .dataframe tbody tr th:only-of-type {\n",
       "        vertical-align: middle;\n",
       "    }\n",
       "\n",
       "    .dataframe tbody tr th {\n",
       "        vertical-align: top;\n",
       "    }\n",
       "\n",
       "    .dataframe thead th {\n",
       "        text-align: right;\n",
       "    }\n",
       "</style>\n",
       "<table border=\"1\" class=\"dataframe\">\n",
       "  <thead>\n",
       "    <tr style=\"text-align: right;\">\n",
       "      <th></th>\n",
       "      <th>datetime</th>\n",
       "      <th>level</th>\n",
       "    </tr>\n",
       "  </thead>\n",
       "  <tbody>\n",
       "    <tr>\n",
       "      <th>0</th>\n",
       "      <td>2005-12-31 12:00:00</td>\n",
       "      <td>60.0</td>\n",
       "    </tr>\n",
       "    <tr>\n",
       "      <th>1</th>\n",
       "      <td>2005-12-31 13:00:00</td>\n",
       "      <td>43.0</td>\n",
       "    </tr>\n",
       "    <tr>\n",
       "      <th>2</th>\n",
       "      <td>2005-12-31 14:00:00</td>\n",
       "      <td>23.0</td>\n",
       "    </tr>\n",
       "    <tr>\n",
       "      <th>3</th>\n",
       "      <td>2005-12-31 15:00:00</td>\n",
       "      <td>1.0</td>\n",
       "    </tr>\n",
       "    <tr>\n",
       "      <th>4</th>\n",
       "      <td>2005-12-31 16:00:00</td>\n",
       "      <td>-12.0</td>\n",
       "    </tr>\n",
       "    <tr>\n",
       "      <th>...</th>\n",
       "      <td>...</td>\n",
       "      <td>...</td>\n",
       "    </tr>\n",
       "    <tr>\n",
       "      <th>52591</th>\n",
       "      <td>2011-12-31 19:00:00</td>\n",
       "      <td>0.0</td>\n",
       "    </tr>\n",
       "    <tr>\n",
       "      <th>52592</th>\n",
       "      <td>2011-12-31 20:00:00</td>\n",
       "      <td>-2.0</td>\n",
       "    </tr>\n",
       "    <tr>\n",
       "      <th>52593</th>\n",
       "      <td>2011-12-31 21:00:00</td>\n",
       "      <td>2.0</td>\n",
       "    </tr>\n",
       "    <tr>\n",
       "      <th>52594</th>\n",
       "      <td>2011-12-31 22:00:00</td>\n",
       "      <td>9.0</td>\n",
       "    </tr>\n",
       "    <tr>\n",
       "      <th>52595</th>\n",
       "      <td>2011-12-31 23:00:00</td>\n",
       "      <td>15.0</td>\n",
       "    </tr>\n",
       "  </tbody>\n",
       "</table>\n",
       "<p>52596 rows × 2 columns</p>\n",
       "</div>"
      ],
      "text/plain": [
       "                  datetime  level\n",
       "0      2005-12-31 12:00:00   60.0\n",
       "1      2005-12-31 13:00:00   43.0\n",
       "2      2005-12-31 14:00:00   23.0\n",
       "3      2005-12-31 15:00:00    1.0\n",
       "4      2005-12-31 16:00:00  -12.0\n",
       "...                    ...    ...\n",
       "52591  2011-12-31 19:00:00    0.0\n",
       "52592  2011-12-31 20:00:00   -2.0\n",
       "52593  2011-12-31 21:00:00    2.0\n",
       "52594  2011-12-31 22:00:00    9.0\n",
       "52595  2011-12-31 23:00:00   15.0\n",
       "\n",
       "[52596 rows x 2 columns]"
      ]
     },
     "execution_count": 4,
     "metadata": {},
     "output_type": "execute_result"
    }
   ],
   "source": [
    "def get_data(fold):\n",
    "    df = pd.read_csv(f'./data/fold_{fold}.csv')\n",
    "    with open(f'./data/fold_{fold}.npy', mode='rb') as f:\n",
    "        train_historical_series = np.load(f, allow_pickle=False)\n",
    "        train_historical_covariates = np.load(f, allow_pickle=False) \n",
    "        train_future_covariates = np.load(f, allow_pickle=False)\n",
    "        train_future_series = np.load(f, allow_pickle=False)\n",
    "        # val arrays\n",
    "        val_historical_series = np.load(f, allow_pickle=False)\n",
    "        val_historical_covariates = np.load(f, allow_pickle=False) \n",
    "        val_future_covariates = np.load(f, allow_pickle=False)\n",
    "        val_future_series = np.load(f, allow_pickle=False)\n",
    "        # test arrays\n",
    "        test_historical_series = np.load(f, allow_pickle=False)\n",
    "        test_historical_covariates = np.load(f, allow_pickle=False) \n",
    "        test_future_covariates = np.load(f, allow_pickle=False)\n",
    "        test_future_series = np.load(f, allow_pickle=False)\n",
    "        test_dates = np.load(f, allow_pickle=True)\n",
    "        # data info\n",
    "        data_features = np.load(f, allow_pickle=False)\n",
    "    return (\n",
    "        (train_historical_series,train_historical_covariates,train_future_covariates),\n",
    "        train_future_series, \n",
    "        (val_historical_series,val_historical_covariates,val_future_covariates),\n",
    "        val_future_series, \n",
    "        (test_historical_series,test_historical_covariates,test_future_covariates), \n",
    "        test_future_series,\n",
    "        test_dates,\n",
    "        data_features,\n",
    "        df\n",
    "    )\n",
    "\n",
    "X_train, y_train, X_val, y_val, X_test, y_test, test_dates, data_features, df = get_data(2)\n",
    "df"
   ]
  },
  {
   "cell_type": "code",
   "execution_count": 5,
   "metadata": {},
   "outputs": [
    {
     "data": {
      "text/plain": [
       "((43734, 72, 1), (43734, 72, 4), (43734, 24, 4))"
      ]
     },
     "execution_count": 5,
     "metadata": {},
     "output_type": "execute_result"
    }
   ],
   "source": [
    "X_train[0].shape, X_train[1].shape, X_train[2].shape"
   ]
  },
  {
   "cell_type": "markdown",
   "metadata": {},
   "source": [
    "## **Model Functions**"
   ]
  },
  {
   "cell_type": "code",
   "execution_count": 6,
   "metadata": {},
   "outputs": [
    {
     "name": "stdout",
     "output_type": "stream",
     "text": [
      "Metal device set to: Apple M1 Pro\n"
     ]
    },
    {
     "name": "stderr",
     "output_type": "stream",
     "text": [
      "2022-12-14 15:18:38.816651: I tensorflow/core/common_runtime/pluggable_device/pluggable_device_factory.cc:305] Could not identify NUMA node of platform GPU ID 0, defaulting to 0. Your kernel may not have been built with NUMA support.\n",
      "2022-12-14 15:18:38.816986: I tensorflow/core/common_runtime/pluggable_device/pluggable_device_factory.cc:271] Created TensorFlow device (/job:localhost/replica:0/task:0/device:GPU:0 with 0 MB memory) -> physical PluggableDevice (device: 0, name: METAL, pci bus id: <undefined>)\n"
     ]
    },
    {
     "name": "stdout",
     "output_type": "stream",
     "text": [
      "Model: \"model\"\n",
      "__________________________________________________________________________________________________\n",
      " Layer (type)                   Output Shape         Param #     Connected to                     \n",
      "==================================================================================================\n",
      " input_1 (InputLayer)           [(None, 72, 1)]      0           []                               \n",
      "                                                                                                  \n",
      " input_2 (InputLayer)           [(None, 72, 4)]      0           []                               \n",
      "                                                                                                  \n",
      " concatenate (Concatenate)      (None, 72, 5)        0           ['input_1[0][0]',                \n",
      "                                                                  'input_2[0][0]']                \n",
      "                                                                                                  \n",
      " lstm (LSTM)                    (None, 72, 16)       1408        ['concatenate[0][0]']            \n",
      "                                                                                                  \n",
      " lstm_1 (LSTM)                  (None, 16)           2112        ['lstm[0][0]']                   \n",
      "                                                                                                  \n",
      " input_3 (InputLayer)           [(None, 24, 4)]      0           []                               \n",
      "                                                                                                  \n",
      " repeat_vector (RepeatVector)   (None, 24, 16)       0           ['lstm_1[0][0]']                 \n",
      "                                                                                                  \n",
      " concatenate_1 (Concatenate)    (None, 24, 20)       0           ['input_3[0][0]',                \n",
      "                                                                  'repeat_vector[0][0]']          \n",
      "                                                                                                  \n",
      " lstm_2 (LSTM)                  (None, 24, 16)       2368        ['concatenate_1[0][0]']          \n",
      "                                                                                                  \n",
      " time_distributed (TimeDistribu  (None, 24, 1)       17          ['lstm_2[0][0]']                 \n",
      " ted)                                                                                             \n",
      "                                                                                                  \n",
      " tf.compat.v1.squeeze (TFOpLamb  (None, 24)          0           ['time_distributed[0][0]']       \n",
      " da)                                                                                              \n",
      "                                                                                                  \n",
      "==================================================================================================\n",
      "Total params: 5,905\n",
      "Trainable params: 5,905\n",
      "Non-trainable params: 0\n",
      "__________________________________________________________________________________________________\n"
     ]
    }
   ],
   "source": [
    "def simple_encoder_decoder(historical_series_shape, historical_covariates_shape, future_covariates_shape):\n",
    "    historical_series = tf.keras.layers.Input(shape=historical_series_shape)\n",
    "    historical_covariates = tf.keras.layers.Input(shape=historical_covariates_shape)\n",
    "    future_covariates = tf.keras.layers.Input(shape=future_covariates_shape)\n",
    "    \n",
    "    historicals = tf.keras.layers.Concatenate()([historical_series, historical_covariates])\n",
    "    embeddings = tf.keras.layers.LSTM(config[\"EMBEDDING_SIZE\"], \n",
    "                                      return_sequences=True, \n",
    "                                      return_state=False, \n",
    "                                      recurrent_initializer='glorot_uniform', \n",
    "                                      activity_regularizer=L1L2(l1=0.000001, l2=0.000001))(historicals)\n",
    "    embeddings = tf.keras.layers.LSTM(config[\"EMBEDDING_SIZE\"], \n",
    "                                      return_sequences=False, \n",
    "                                      return_state=False, \n",
    "                                      recurrent_initializer='glorot_uniform', \n",
    "                                      activity_regularizer=L1L2(l1=0.000001, l2=0.000001))(embeddings)\n",
    "    \n",
    "    embeddings = tf.keras.layers.RepeatVector(future_covariates_shape[0])(embeddings)\n",
    "    embeddings = tf.keras.layers.Concatenate(axis=-1)([future_covariates, embeddings])\n",
    "    decoder = tf.keras.layers.LSTM(config[\"EMBEDDING_SIZE\"],\n",
    "                                   return_sequences=True,\n",
    "                                   return_state=False,\n",
    "                                   recurrent_initializer='glorot_uniform', \n",
    "                                   activity_regularizer=L1L2(l1=0.000001, l2=0.000001))(embeddings)\n",
    "    \n",
    "    outputs = tf.keras.layers.TimeDistributed(tf.keras.layers.Dense(1))(decoder)\n",
    "    outputs = tf.squeeze(outputs, axis=-1)\n",
    "    model = tf.keras.models.Model(inputs=[historical_series, historical_covariates, future_covariates], outputs=outputs)\n",
    "    model.compile(loss=\"mse\", metrics=[\"mae\"], optimizer=tf.keras.optimizers.Adam(learning_rate=config[\"LR\"]))\n",
    "    return model\n",
    "\n",
    "model = simple_encoder_decoder(X_train[0].shape[1:], X_train[1].shape[1:], X_train[2].shape[1:])\n",
    "model.summary()"
   ]
  },
  {
   "cell_type": "code",
   "execution_count": 7,
   "metadata": {},
   "outputs": [],
   "source": [
    "    \n",
    "#     decoder_output = tf.keras.layers.Dense(1)\n",
    "#     all_outputs = []\n",
    "#     states = [hidden, cell]\n",
    "#         x, hidden_state, cell_state = decoder(last_value, initial_state=states)\n",
    "#         states=[hidden_state, cell_state]\n",
    "#         x = tf.keras.layers.Dropout(0.2)(x)\n",
    "#         x = decoder_output(x)\n",
    "#         last_value = x\n",
    "#         all_outputs.append(x)\n",
    "#     outputs = tf.keras.layers.Lambda(lambda x: K.concatenate(x, axis=1))(all_outputs)\n",
    "#     model = tf.keras.models.Model(inputs=inputs, outputs=outputs)\n",
    "#     model.compile(loss=\"mse\", metrics=[\"mae\"], optimizer=tf.keras.optimizers.Adam(learning_rate=config[\"LR\"]))\n",
    "#     return model\n"
   ]
  },
  {
   "cell_type": "code",
   "execution_count": 8,
   "metadata": {},
   "outputs": [
    {
     "name": "stdout",
     "output_type": "stream",
     "text": [
      "Epoch 1/30\n"
     ]
    },
    {
     "name": "stderr",
     "output_type": "stream",
     "text": [
      "2022-12-14 15:18:40.393644: W tensorflow/core/platform/profile_utils/cpu_utils.cc:128] Failed to get CPU frequency: 0 Hz\n",
      "2022-12-14 15:18:45.394514: I tensorflow/core/grappler/optimizers/custom_graph_optimizer_registry.cc:113] Plugin optimizer for device_type GPU is enabled.\n",
      "2022-12-14 15:18:45.989454: I tensorflow/core/grappler/optimizers/custom_graph_optimizer_registry.cc:113] Plugin optimizer for device_type GPU is enabled.\n",
      "2022-12-14 15:18:46.348817: I tensorflow/core/grappler/optimizers/custom_graph_optimizer_registry.cc:113] Plugin optimizer for device_type GPU is enabled.\n",
      "2022-12-14 15:18:46.846101: I tensorflow/core/grappler/optimizers/custom_graph_optimizer_registry.cc:113] Plugin optimizer for device_type GPU is enabled.\n",
      "2022-12-14 15:18:47.665000: I tensorflow/core/grappler/optimizers/custom_graph_optimizer_registry.cc:113] Plugin optimizer for device_type GPU is enabled.\n",
      "2022-12-14 15:18:48.043100: I tensorflow/core/grappler/optimizers/custom_graph_optimizer_registry.cc:113] Plugin optimizer for device_type GPU is enabled.\n",
      "2022-12-14 15:18:48.488725: I tensorflow/core/grappler/optimizers/custom_graph_optimizer_registry.cc:113] Plugin optimizer for device_type GPU is enabled.\n"
     ]
    },
    {
     "name": "stdout",
     "output_type": "stream",
     "text": [
      "1367/1367 [==============================] - ETA: 0s - loss: 0.4858 - mae: 0.5620"
     ]
    },
    {
     "name": "stderr",
     "output_type": "stream",
     "text": [
      "2022-12-14 15:21:16.529427: I tensorflow/core/grappler/optimizers/custom_graph_optimizer_registry.cc:113] Plugin optimizer for device_type GPU is enabled.\n",
      "2022-12-14 15:21:16.760791: I tensorflow/core/grappler/optimizers/custom_graph_optimizer_registry.cc:113] Plugin optimizer for device_type GPU is enabled.\n",
      "2022-12-14 15:21:17.070891: I tensorflow/core/grappler/optimizers/custom_graph_optimizer_registry.cc:113] Plugin optimizer for device_type GPU is enabled.\n",
      "2022-12-14 15:21:17.428277: I tensorflow/core/grappler/optimizers/custom_graph_optimizer_registry.cc:113] Plugin optimizer for device_type GPU is enabled.\n"
     ]
    },
    {
     "name": "stdout",
     "output_type": "stream",
     "text": [
      "1367/1367 [==============================] - 174s 121ms/step - loss: 0.4858 - mae: 0.5620 - val_loss: 0.2698 - val_mae: 0.4064 - lr: 5.0000e-04\n",
      "Epoch 2/30\n",
      "1367/1367 [==============================] - 159s 116ms/step - loss: 0.2301 - mae: 0.3628 - val_loss: 0.1360 - val_mae: 0.2819 - lr: 5.0000e-04\n",
      "Epoch 3/30\n",
      "1367/1367 [==============================] - 179s 131ms/step - loss: 0.1707 - mae: 0.3076 - val_loss: 0.1156 - val_mae: 0.2599 - lr: 5.0000e-04\n",
      "Epoch 4/30\n",
      "1367/1367 [==============================] - 156s 114ms/step - loss: 0.1446 - mae: 0.2823 - val_loss: 0.1015 - val_mae: 0.2440 - lr: 5.0000e-04\n",
      "Epoch 5/30\n",
      "1367/1367 [==============================] - 125s 92ms/step - loss: 0.1857 - mae: 0.3230 - val_loss: 0.1286 - val_mae: 0.2758 - lr: 5.0000e-04\n",
      "Epoch 6/30\n",
      "1367/1367 [==============================] - 118s 86ms/step - loss: 0.1622 - mae: 0.3019 - val_loss: 0.1140 - val_mae: 0.2597 - lr: 5.0000e-04\n",
      "Epoch 7/30\n",
      "1367/1367 [==============================] - 102s 75ms/step - loss: 0.1373 - mae: 0.2757 - val_loss: 0.1016 - val_mae: 0.2435 - lr: 5.0000e-05\n",
      "Epoch 8/30\n",
      "1367/1367 [==============================] - 101s 74ms/step - loss: 0.1336 - mae: 0.2718 - val_loss: 0.0982 - val_mae: 0.2393 - lr: 5.0000e-05\n",
      "Epoch 9/30\n",
      "1367/1367 [==============================] - 112s 82ms/step - loss: 0.1305 - mae: 0.2685 - val_loss: 0.0955 - val_mae: 0.2359 - lr: 5.0000e-05\n",
      "Epoch 10/30\n",
      "1367/1367 [==============================] - 157s 114ms/step - loss: 0.1287 - mae: 0.2662 - val_loss: 0.0944 - val_mae: 0.2344 - lr: 5.0000e-05\n",
      "Epoch 11/30\n",
      "1367/1367 [==============================] - 141s 103ms/step - loss: 0.1262 - mae: 0.2635 - val_loss: 0.0928 - val_mae: 0.2326 - lr: 5.0000e-05\n",
      "Epoch 12/30\n",
      "1367/1367 [==============================] - 126s 92ms/step - loss: 0.1237 - mae: 0.2607 - val_loss: 0.0925 - val_mae: 0.2316 - lr: 5.0000e-05\n",
      "Epoch 13/30\n",
      "1367/1367 [==============================] - 128s 93ms/step - loss: 0.1217 - mae: 0.2584 - val_loss: 0.0897 - val_mae: 0.2281 - lr: 5.0000e-05\n",
      "Epoch 14/30\n",
      "1367/1367 [==============================] - 140s 102ms/step - loss: 0.1214 - mae: 0.2581 - val_loss: 0.0886 - val_mae: 0.2269 - lr: 5.0000e-05\n",
      "Epoch 15/30\n",
      "1367/1367 [==============================] - 132s 97ms/step - loss: 0.1190 - mae: 0.2551 - val_loss: 0.0867 - val_mae: 0.2246 - lr: 5.0000e-05\n",
      "Epoch 16/30\n",
      "1367/1367 [==============================] - 131s 96ms/step - loss: 0.1179 - mae: 0.2538 - val_loss: 0.0861 - val_mae: 0.2236 - lr: 5.0000e-05\n",
      "Epoch 17/30\n",
      "1367/1367 [==============================] - 138s 101ms/step - loss: 0.1169 - mae: 0.2526 - val_loss: 0.0854 - val_mae: 0.2232 - lr: 5.0000e-05\n",
      "Epoch 18/30\n",
      "1367/1367 [==============================] - 129s 94ms/step - loss: 0.1156 - mae: 0.2511 - val_loss: 0.0850 - val_mae: 0.2229 - lr: 5.0000e-05\n",
      "Epoch 19/30\n",
      "1367/1367 [==============================] - 98s 72ms/step - loss: 0.1150 - mae: 0.2503 - val_loss: 0.0850 - val_mae: 0.2220 - lr: 5.0000e-05\n",
      "Epoch 20/30\n",
      "1367/1367 [==============================] - 93s 68ms/step - loss: 0.1140 - mae: 0.2492 - val_loss: 0.0835 - val_mae: 0.2201 - lr: 5.0000e-05\n",
      "Epoch 21/30\n",
      "1367/1367 [==============================] - 93s 68ms/step - loss: 0.1128 - mae: 0.2477 - val_loss: 0.0817 - val_mae: 0.2176 - lr: 5.0000e-05\n",
      "Epoch 22/30\n",
      "1367/1367 [==============================] - 91s 66ms/step - loss: 0.1119 - mae: 0.2465 - val_loss: 0.0813 - val_mae: 0.2171 - lr: 5.0000e-05\n",
      "Epoch 23/30\n",
      "1367/1367 [==============================] - 88s 64ms/step - loss: 0.1109 - mae: 0.2454 - val_loss: 0.0805 - val_mae: 0.2159 - lr: 5.0000e-05\n",
      "Epoch 24/30\n",
      "1367/1367 [==============================] - 87s 63ms/step - loss: 0.1102 - mae: 0.2446 - val_loss: 0.0796 - val_mae: 0.2142 - lr: 5.0000e-05\n",
      "Epoch 25/30\n",
      "1367/1367 [==============================] - 86s 63ms/step - loss: 0.1093 - mae: 0.2434 - val_loss: 0.0807 - val_mae: 0.2164 - lr: 5.0000e-05\n",
      "Epoch 26/30\n",
      "1367/1367 [==============================] - 88s 64ms/step - loss: 0.1087 - mae: 0.2428 - val_loss: 0.0785 - val_mae: 0.2131 - lr: 5.0000e-05\n",
      "Epoch 27/30\n",
      "1367/1367 [==============================] - 87s 64ms/step - loss: 0.1082 - mae: 0.2421 - val_loss: 0.0780 - val_mae: 0.2121 - lr: 5.0000e-05\n",
      "Epoch 28/30\n",
      "1367/1367 [==============================] - 89s 65ms/step - loss: 0.1074 - mae: 0.2411 - val_loss: 0.0789 - val_mae: 0.2140 - lr: 5.0000e-05\n",
      "Epoch 29/30\n",
      "1367/1367 [==============================] - 91s 67ms/step - loss: 0.1071 - mae: 0.2408 - val_loss: 0.0787 - val_mae: 0.2131 - lr: 5.0000e-05\n",
      "Epoch 30/30\n",
      "1367/1367 [==============================] - 90s 66ms/step - loss: 0.1067 - mae: 0.2403 - val_loss: 0.0778 - val_mae: 0.2120 - lr: 5.0000e-06\n"
     ]
    },
    {
     "data": {
      "text/plain": [
       "<keras.callbacks.History at 0x2d1f9a820>"
      ]
     },
     "execution_count": 8,
     "metadata": {},
     "output_type": "execute_result"
    }
   ],
   "source": [
    "reducer = tf.keras.callbacks.ReduceLROnPlateau(monior='val_loss', factor=0.1, patience=2, mode='min', cooldown=1)\n",
    "stopper = tf.keras.callbacks.EarlyStopping(monitor='val_loss', patience=4, mode='min', restore_best_weights=True)\n",
    "if(RUN_WANDB):\n",
    "    callbacks = [reducer, stopper, WandbCallback()]\n",
    "else:\n",
    "    callbacks = [reducer, stopper]\n",
    "\n",
    "model.fit(X_train, y_train,\n",
    "          batch_size=config[\"BATCH_SIZE\"],\n",
    "          epochs=config[\"EPOCHS\"], \n",
    "          callbacks=callbacks,\n",
    "          validation_data=(X_val, y_val),\n",
    "          validation_batch_size=config[\"BATCH_SIZE\"],\n",
    "          shuffle=True)"
   ]
  },
  {
   "cell_type": "code",
   "execution_count": 9,
   "metadata": {},
   "outputs": [
    {
     "name": "stdout",
     "output_type": "stream",
     "text": [
      "271/271 [==============================] - 9s 33ms/step - loss: 0.1297 - mae: 0.2566\n"
     ]
    },
    {
     "data": {
      "text/plain": [
       "[0.12972557544708252, 0.25657451152801514]"
      ]
     },
     "execution_count": 9,
     "metadata": {},
     "output_type": "execute_result"
    }
   ],
   "source": [
    "model.evaluate(X_test, y_test)"
   ]
  },
  {
   "cell_type": "code",
   "execution_count": 10,
   "metadata": {},
   "outputs": [
    {
     "name": "stderr",
     "output_type": "stream",
     "text": [
      "2022-12-14 16:17:37.661329: I tensorflow/core/grappler/optimizers/custom_graph_optimizer_registry.cc:113] Plugin optimizer for device_type GPU is enabled.\n",
      "2022-12-14 16:17:37.763120: I tensorflow/core/grappler/optimizers/custom_graph_optimizer_registry.cc:113] Plugin optimizer for device_type GPU is enabled.\n",
      "2022-12-14 16:17:37.893046: I tensorflow/core/grappler/optimizers/custom_graph_optimizer_registry.cc:113] Plugin optimizer for device_type GPU is enabled.\n",
      "2022-12-14 16:17:38.018150: I tensorflow/core/grappler/optimizers/custom_graph_optimizer_registry.cc:113] Plugin optimizer for device_type GPU is enabled.\n"
     ]
    },
    {
     "name": "stdout",
     "output_type": "stream",
     "text": [
      "271/271 [==============================] - 9s 28ms/step\n"
     ]
    },
    {
     "data": {
      "text/plain": [
       "array([[34.263702 , 34.427296 , 37.908237 , ..., 33.82692  , 32.36449  ,\n",
       "        30.059898 ],\n",
       "       [32.145054 , 34.43268  , 40.92261  , ..., 32.001507 , 29.255835 ,\n",
       "        27.185352 ],\n",
       "       [31.483603 , 36.41867  , 44.5597   , ..., 28.368845 , 25.821318 ,\n",
       "        25.343784 ],\n",
       "       ...,\n",
       "       [19.10905  , 10.89114  ,  5.5569057, ..., 49.99858  , 56.48407  ,\n",
       "        53.612312 ],\n",
       "       [ 8.571518 ,  1.800106 ,  3.8886604, ..., 53.921608 , 51.203384 ,\n",
       "        42.59918  ],\n",
       "       [ 5.2106457,  2.9420795, 11.815298 , ..., 47.31079  , 39.69548  ,\n",
       "        27.397259 ]], dtype=float32)"
      ]
     },
     "execution_count": 10,
     "metadata": {},
     "output_type": "execute_result"
    }
   ],
   "source": [
    "predictions = model.predict(X_test)\n",
    "predictions = (predictions * data_features[1]) + data_features[0]\n",
    "actuals = (y_test * data_features[1]) + data_features[0]\n",
    "predictions"
   ]
  },
  {
   "cell_type": "code",
   "execution_count": 11,
   "metadata": {},
   "outputs": [
    {
     "data": {
      "text/plain": [
       "((8670, 24), (8670, 24))"
      ]
     },
     "execution_count": 11,
     "metadata": {},
     "output_type": "execute_result"
    }
   ],
   "source": [
    "predictions.shape, actuals.shape"
   ]
  },
  {
   "cell_type": "code",
   "execution_count": 13,
   "metadata": {},
   "outputs": [
    {
     "name": "stdout",
     "output_type": "stream",
     "text": [
      "10.423805592136429\n"
     ]
    },
    {
     "data": {
      "image/png": "[encoded data removed]",
      "text/plain": [
       "<Figure size 1584x1152 with 1 Axes>"
      ]
     },
     "metadata": {
      "needs_background": "light"
     },
     "output_type": "display_data"
    }
   ],
   "source": [
    "errors = np.sqrt(np.mean(np.square(predictions - actuals), axis=0))\n",
    "print(np.mean(errors))\n",
    "_, ax = plt.subplots(figsize=(22,16))\n",
    "ax.plot(np.arange(len(errors)), errors);"
   ]
  },
  {
   "cell_type": "code",
   "execution_count": null,
   "metadata": {},
   "outputs": [],
   "source": []
  }
 ],
 "metadata": {
  "kernelspec": {
   "display_name": "Python 3 (ipykernel)",
   "language": "python",
   "name": "python3"
  },
  "language_info": {
   "codemirror_mode": {
    "name": "ipython",
    "version": 3
   },
   "file_extension": ".py",
   "mimetype": "text/x-python",
   "name": "python",
   "nbconvert_exporter": "python",
   "pygments_lexer": "ipython3",
   "version": "3.8.13"
  }
 },
 "nbformat": 4,
 "nbformat_minor": 4
}
